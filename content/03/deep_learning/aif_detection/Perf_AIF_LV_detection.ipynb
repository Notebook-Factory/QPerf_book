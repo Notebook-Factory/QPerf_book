{
 "cells": [
  {
   "cell_type": "markdown",
   "metadata": {},
   "source": [
    "#  Automated detection of LV from arterial input function (AIF) image series for cardiac MR perfusion with model deployment to MR scanner\n",
    "\n",
    "**Author**: `Hui Xue <hui.xue@nih.gov>`"
   ]
  },
  {
   "cell_type": "code",
   "execution_count": 1,
   "metadata": {
    "ExecuteTime": {
     "end_time": "2019-07-23T15:22:09.606176Z",
     "start_time": "2019-07-23T15:22:09.382818Z"
    }
   },
   "outputs": [
    {
     "data": {
      "text/html": [
       "<style>.container { width:90% !important; }</style>"
      ],
      "text/plain": [
       "<IPython.core.display.HTML object>"
      ]
     },
     "metadata": {},
     "output_type": "display_data"
    }
   ],
   "source": [
    "#import os\n",
    "#os.environ['CUDA_DEVICE_ORDER']='PCI_BUS_ID'\n",
    "#os.environ['CUDA_VISIBLE_DEVICES']='1,2'\n",
    "\n",
    "from IPython.core.display import display, HTML\n",
    "display(HTML(\"<style>.container { width:90% !important; }</style>\"))\n",
    "\n",
    "import torch\n",
    "import torch.nn as nn\n",
    "import torch.optim as optim\n",
    "from torch.utils.data import DataLoader\n",
    "from torch.utils.data import sampler\n",
    "import torch.onnx\n",
    "import torch.nn.functional as F\n",
    "import torchvision.datasets as dset\n",
    "import torchvision.transforms as T\n",
    "from torchvision.utils import *\n",
    "\n",
    "import numpy as np\n",
    "import collections\n",
    "import matplotlib.pyplot as plt\n",
    "from matplotlib import animation, rc\n",
    "animation.rcParams['animation.writer'] = 'ffmpeg'\n",
    "plt.rcParams['animation.ffmpeg_path'] = '/usr/bin/ffmpeg'\n",
    "\n",
    "import scipy\n",
    "import scipy as sp\n",
    "from scipy.spatial import ConvexHull\n",
    "from scipy.ndimage.morphology import binary_fill_holes\n",
    "\n",
    "from collections import OrderedDict\n",
    "import time\n",
    "from tensorboardX import SummaryWriter\n",
    "\n",
    "from skimage import io, transform\n",
    "from PIL import Image\n",
    "from torch.utils.data import Dataset, DataLoader\n",
    "import torchvision\n",
    "\n",
    "from IPython.display import display, clear_output, HTML, Image\n",
    "\n",
    "from PIL import Image\n",
    "import imp\n",
    "import os\n",
    "import sys\n",
    "import math\n",
    "import time\n",
    "import random\n",
    "import shutil\n",
    "import scipy.misc\n",
    "from glob import glob\n",
    "import sklearn\n",
    "import logging\n",
    "from tqdm.notebook import tqdm\n",
    "\n",
    "%matplotlib inline\n",
    "%load_ext autoreload\n",
    "%autoreload 2"
   ]
  },
  {
   "cell_type": "code",
   "execution_count": 2,
   "metadata": {
    "ExecuteTime": {
     "end_time": "2019-07-23T15:22:12.162608Z",
     "start_time": "2019-07-23T15:22:11.709073Z"
    }
   },
   "outputs": [],
   "source": [
    "import training\n",
    "import models\n",
    "import utils\n",
    "import utils.cmr_ml_utils_plotting"
   ]
  },
  {
   "cell_type": "code",
   "execution_count": 3,
   "metadata": {},
   "outputs": [],
   "source": [
    "def show(img):\n",
    "    npimg = img.numpy()\n",
    "    print(npimg.shape)\n",
    "    plt.imshow(np.transpose(npimg, (1,2,0)), interpolation='nearest')"
   ]
  },
  {
   "cell_type": "markdown",
   "metadata": {},
   "source": [
    "## Load image data"
   ]
  },
  {
   "cell_type": "code",
   "execution_count": 4,
   "metadata": {},
   "outputs": [],
   "source": [
    "img_dir = './data'"
   ]
  },
  {
   "cell_type": "code",
   "execution_count": 7,
   "metadata": {
    "ExecuteTime": {
     "end_time": "2019-06-25T19:00:38.010871Z",
     "start_time": "2019-06-25T19:00:37.753430Z"
    }
   },
   "outputs": [],
   "source": [
    "import scipy.io\n",
    "\n",
    "class PerfAIFDataset(Dataset):\n",
    "    \"\"\"Perfusion AIF dataset.\"\"\"\n",
    "\n",
    "    def __init__(self, img_dir, which_mask='LV_RV', min_reps=64, W=48, transform=None):\n",
    "        \"\"\"\n",
    "        Args:\n",
    "            img_dir (string): Directory with all the images.\n",
    "            transform (callable, optional): Optional transform to be applied on a sample.\n",
    "            which_mask: LV or LV_RV\n",
    "        \"\"\"\n",
    "        self.img_dir = img_dir\n",
    "        self.transform = transform\n",
    "        self.which_mask = which_mask\n",
    "        self.min_reps = min_reps\n",
    "        self.W = W\n",
    "        \n",
    "        # find all images\n",
    "        locations = os.listdir(self.img_dir)\n",
    "        a = []\n",
    "        for loc in locations:\n",
    "            if(os.path.isdir(os.path.join(self.img_dir, loc))):\n",
    "                a.extend(os.listdir(os.path.join(self.img_dir, loc)))\n",
    "\n",
    "        num_samples = len(a)\n",
    "        print(\"Found %d cases ... \" % num_samples)\n",
    "        \n",
    "        self.initialize_storage()\n",
    "\n",
    "        t0 = time.time()\n",
    "        print(\"Start loading cases ... \")\n",
    "        \n",
    "        total_num_loaded = 0\n",
    "        \n",
    "        for loc in locations:\n",
    "            if(os.path.isdir(os.path.join(self.img_dir, loc))):\n",
    "                total_num_loaded = self.load_one_loc(loc, total_num_loaded, t0)                                          \n",
    "        \n",
    "        print(\"Total samples loaded %d \" % total_num_loaded)\n",
    "        \n",
    "    def initialize_storage(self):\n",
    "        self.aif = []\n",
    "        self.lv_rv_masks = []\n",
    "        self.lv_masks = []\n",
    "        self.names = []\n",
    "    \n",
    "    def load_one_data(self, loc, f_prefix):\n",
    "        \n",
    "        f_name = f_prefix + '.npy'\n",
    "        data = np.load(os.path.join(self.img_dir, loc, f_name))                    \n",
    "                       \n",
    "        # print ('Loaded ', f_name, data.shape)\n",
    "        \n",
    "        return data\n",
    "    \n",
    "    def load_one_loc(self, loc, total_num_loaded, t0):      \n",
    "        \n",
    "        t1 = time.time()\n",
    "        \n",
    "        a = os.listdir(os.path.join(self.img_dir, loc))\n",
    "        num_samples = len(a)\n",
    "        \n",
    "        print('---> Start loading ', loc)\n",
    "        tq = tqdm(total=(num_samples), file=sys.stdout)\n",
    "        \n",
    "        for ii, n in enumerate(a):      \n",
    "            \n",
    "            '''\n",
    "            if (ii>30):\n",
    "                break\n",
    "            '''\n",
    "            \n",
    "            name = os.path.join(loc, n)\n",
    "            #print('------> Start loading %d out of %d, %s' % (ii, num_samples, name))\n",
    "\n",
    "            tq.set_description('loading {}, total {}'.format(ii, num_samples))\n",
    "            \n",
    "            try:\n",
    "                Gd = self.load_one_data(name, 'aif_scc')\n",
    "                try:\n",
    "                    lv_rv = self.load_one_data(name, 'aif_masks_final')                    \n",
    "                except:\n",
    "                    lv_rv = self.load_one_data(name, 'aif_masks')\n",
    "            except:\n",
    "                print('------> Failed to load %d out of %d, %s' % (ii, num_samples, n))\n",
    "                continue\n",
    "\n",
    "            RO, E1, N = Gd.shape\n",
    "                \n",
    "            if(N<self.min_reps):\n",
    "                new_Gd = np.zeros((RO, E1, self.min_reps))\n",
    "                new_Gd[:,:,0:N] = Gd\n",
    "                f = Gd[:,:,N-1]\n",
    "                new_Gd[:,:,N:self.min_reps] = np.dstack([f]*(self.min_reps-N))\n",
    "                Gd = new_Gd\n",
    "            \n",
    "            if(N>self.min_reps):\n",
    "                Gd = Gd[:,:,0:self.min_reps]\n",
    "            \n",
    "            if(E1>self.W):\n",
    "                s = int((E1-self.W)/2)\n",
    "                Gd = Gd[:,s:s+self.W,:]\n",
    "                lv_rv = lv_rv[:,s:s+self.W]\n",
    "                \n",
    "            if(E1<self.W):\n",
    "                s = int((self.W-E1)/2)\n",
    "                new_Gd = np.zeros((RO, self.W, self.min_reps))\n",
    "                new_Gd[:,s:s+E1,:] = Gd                \n",
    "                Gd = new_Gd\n",
    "                                \n",
    "                new_lv_rv = np.zeros((RO, self.W))\n",
    "                new_lv_rv[:,s:s+E1] = lv_rv\n",
    "                lv_rv = new_lv_rv                \n",
    "            \n",
    "            RO, E1, N = Gd.shape\n",
    "            if(RO!=64 or E1!=48 or N!=64):\n",
    "                print('--> incorrect Gd shape : ', name)\n",
    "                continue\n",
    "            \n",
    "            Gd = Gd / np.max(Gd)\n",
    "            Gd = np.transpose(Gd, (2, 0, 1))\n",
    "                \n",
    "            lv = np.zeros_like(lv_rv)\n",
    "            lv[np.where(lv_rv==1)] = 1\n",
    "                \n",
    "            lv_rv = np.reshape(lv_rv, (1, lv_rv.shape[0], lv_rv.shape[1]))\n",
    "            lv = np.reshape(lv, (1, lv.shape[0], lv.shape[1]))\n",
    "        \n",
    "            self.aif.append(Gd.astype(np.float32))\n",
    "            self.lv_rv_masks.append(lv_rv.astype(np.float32))\n",
    "            self.lv_masks.append(lv.astype(np.float32))\n",
    "\n",
    "            #print('     aif data : ', Gd.shape)\n",
    "            #print('     lv_rv mask : ', lv_rv.shape)\n",
    "            \n",
    "            self.names.append(name)\n",
    "                \n",
    "            total_num_loaded += 1\n",
    "                \n",
    "            t1 = time.time()\n",
    "            \n",
    "            tq.update(1)\n",
    "            tq.set_postfix(loss='{:.2f}s'.format(t1-t0))\n",
    "                \n",
    "            #print(\"             Time from starting : %f seconds ... \\n\" % (t1-t0))\n",
    "           \n",
    "        str_after_loading = '    Finish loading %s --- Total %d samples -- In %.2f seconds' % (loc, num_samples, t1-t0)\n",
    "        tq.set_postfix_str(str_after_loading)\n",
    "        \n",
    "        tq.close() \n",
    "            \n",
    "        return total_num_loaded\n",
    "    \n",
    "    def __len__(self):\n",
    "        return len(self.aif)\n",
    "\n",
    "    def __getitem__(self, idx):\n",
    "        \n",
    "        if idx >= len(self.aif):\n",
    "            raise \"invalid index\"\n",
    "        \n",
    "        if (self.which_mask == 'lv_rv'):            \n",
    "            sample = (self.aif[idx], self.lv_rv_masks[idx], self.names[idx])\n",
    "            \n",
    "        if (self.which_mask == 'lv'):            \n",
    "            sample = (self.aif[idx], self.lv_masks[idx], self.names[idx])\n",
    "            \n",
    "        if self.transform:\n",
    "            sample = self.transform(sample)\n",
    "\n",
    "        return sample    \n",
    "    \n",
    "    def __str__(self):\n",
    "        str = \"Perfusion AIF Dataset\\n\"\n",
    "        str += \"  image root: %s\" % self.img_dir + \"\\n\"\n",
    "        str += \"  Number of samples: %d\" % len(self.aif) + \"\\n\"\n",
    "        str += \"  Number of masks: %d\" % len(self.lv_rv_masks) + \"\\n\"\n",
    "        if len(self.aif) > 0:\n",
    "            str += \"  image shape: %d %d %d\" % self.aif[0].shape + \"\\n\"\n",
    "            str += \"  myo mask shape: %d %d %d\" % self.lv_rv_masks[0].shape + \"\\n\"\n",
    "        return str"
   ]
  },
  {
   "cell_type": "code",
   "execution_count": 8,
   "metadata": {
    "ExecuteTime": {
     "end_time": "2019-06-25T19:00:38.394931Z",
     "start_time": "2019-06-25T19:00:38.383944Z"
    },
    "scrolled": true
   },
   "outputs": [
    {
     "name": "stdout",
     "output_type": "stream",
     "text": [
      "Found 3 cases ... \n",
      "Start loading cases ... \n",
      "---> Start loading  aif\n"
     ]
    },
    {
     "data": {
      "application/vnd.jupyter.widget-view+json": {
       "model_id": "e51109e68dc24c0db653be674a69de84",
       "version_major": 2,
       "version_minor": 0
      },
      "text/plain": [
       "  0%|          | 0/3 [00:00<?, ?it/s]"
      ]
     },
     "metadata": {},
     "output_type": "display_data"
    },
    {
     "name": "stdout",
     "output_type": "stream",
     "text": [
      "Total samples loaded 3 \n",
      "Done\n"
     ]
    }
   ],
   "source": [
    "perf_aif_dataset = PerfAIFDataset(img_dir)\n",
    "print(\"Done\")"
   ]
  },
  {
   "cell_type": "code",
   "execution_count": 9,
   "metadata": {},
   "outputs": [
    {
     "name": "stdout",
     "output_type": "stream",
     "text": [
      "Perfusion AIF Dataset\n",
      "  image root: ./data\n",
      "  Number of samples: 3\n",
      "  Number of masks: 3\n",
      "  image shape: 64 64 48\n",
      "  myo mask shape: 1 64 48\n",
      "\n"
     ]
    }
   ],
   "source": [
    "print(perf_aif_dataset)"
   ]
  },
  {
   "cell_type": "code",
   "execution_count": 10,
   "metadata": {},
   "outputs": [],
   "source": [
    "perf_aif_dataset.which_mask = 'lv_rv'\n",
    "\n",
    "\n",
    "B = len(perf_aif_dataset)\n",
    "\n",
    "for n in range(B):\n",
    "    Gd, masks, names = perf_aif_dataset[n]\n",
    "    N, RO, E1 = Gd.shape\n",
    "    if(RO!=64 or E1!=48 or N!=64):\n",
    "        print('--> incorrect Gd shape : ', (n, names, Gd.shape))\n",
    "    _, RO, E1 = masks.shape\n",
    "    if(RO!=64 or E1!=48):\n",
    "        print('--> incorrect masks shape : ', (n, names, masks.shape))"
   ]
  },
  {
   "cell_type": "markdown",
   "metadata": {},
   "source": [
    "## Check to see if data loaded properly"
   ]
  },
  {
   "cell_type": "code",
   "execution_count": 11,
   "metadata": {},
   "outputs": [
    {
     "name": "stdout",
     "output_type": "stream",
     "text": [
      "3\n"
     ]
    },
    {
     "data": {
      "text/plain": [
       "[<matplotlib.lines.Line2D at 0x21c76068048>]"
      ]
     },
     "execution_count": 11,
     "metadata": {},
     "output_type": "execute_result"
    },
    {
     "data": {
      "image/png": "[encoded data removed]",
      "text/plain": [
       "<Figure size 576x576 with 1 Axes>"
      ]
     },
     "metadata": {
      "needs_background": "light"
     },
     "output_type": "display_data"
    }
   ],
   "source": [
    "B = len(perf_aif_dataset)\n",
    "print(B)\n",
    "ni = np.zeros(B)\n",
    "nm = np.zeros(B)\n",
    "\n",
    "for n in np.arange(B):\n",
    "    images, masks, names = perf_aif_dataset[n]\n",
    "    ni[n] = np.linalg.norm(images)\n",
    "    nm[n] = np.linalg.norm(masks)\n",
    "\n",
    "    if(ni[n] < 1):\n",
    "        print(names, ni[n])\n",
    "    \n",
    "plt.figure(figsize=(8,8))    \n",
    "plt.plot(ni, nm, 'bo')"
   ]
  },
  {
   "cell_type": "code",
   "execution_count": 12,
   "metadata": {},
   "outputs": [
    {
     "name": "stdout",
     "output_type": "stream",
     "text": [
      "Perfusion AIF Dataset\n",
      "  image root: ./data\n",
      "  Number of samples: 3\n",
      "  Number of masks: 3\n",
      "  image shape: 64 64 48\n",
      "  myo mask shape: 1 64 48\n",
      "\n"
     ]
    }
   ],
   "source": [
    "print(perf_aif_dataset)\n",
    "NUM_TRAIN = len(perf_aif_dataset)-1\n",
    "\n",
    "batch_size = 2\n",
    "\n",
    "loader_for_train = DataLoader(perf_aif_dataset, batch_size=batch_size, \n",
    "                          sampler=sampler.SubsetRandomSampler(range(NUM_TRAIN)))\n",
    "\n",
    "loader_for_val = DataLoader(perf_aif_dataset, batch_size=batch_size, \n",
    "                        sampler=sampler.SubsetRandomSampler(range(NUM_TRAIN, len(perf_aif_dataset))))"
   ]
  },
  {
   "cell_type": "code",
   "execution_count": 13,
   "metadata": {},
   "outputs": [
    {
     "name": "stdout",
     "output_type": "stream",
     "text": [
      "<torch.utils.data.dataloader._SingleProcessDataLoaderIter object at 0x0000021C773A5348>\n",
      "torch.Size([2, 64, 64, 48])\n",
      "torch.Size([2, 1, 64, 48])\n",
      "torch.Size([64, 48, 64, 2])\n"
     ]
    },
    {
     "data": {
      "image/png": "[encoded data removed]",
      "text/plain": [
       "<Figure size 2304x576 with 16 Axes>"
      ]
     },
     "metadata": {
      "needs_background": "light"
     },
     "output_type": "display_data"
    },
    {
     "data": {
      "image/png": "[encoded data removed]",
      "text/plain": [
       "<Figure size 2304x576 with 16 Axes>"
      ]
     },
     "metadata": {
      "needs_background": "light"
     },
     "output_type": "display_data"
    },
    {
     "data": {
      "image/png": "[encoded data removed]",
      "text/plain": [
       "<Figure size 1152x1152 with 2 Axes>"
      ]
     },
     "metadata": {
      "needs_background": "light"
     },
     "output_type": "display_data"
    }
   ],
   "source": [
    "iter_train = iter(loader_for_train)\n",
    "print(iter_train)\n",
    "images, masks, names = iter_train.next()\n",
    "\n",
    "print(images.shape)\n",
    "print(masks.shape)\n",
    "\n",
    "ia = np.transpose(images, (2, 3, 1, 0))\n",
    "print(ia.shape)\n",
    "\n",
    "for n in range(masks.shape[0]):\n",
    "    a = utils.cmr_ml_utils_plotting.plot_image_array(np.transpose(np.squeeze(images[n, 0:-1:4,:,:]), (1, 2, 0)), columns=16, figsize=[32,8])\n",
    "    \n",
    "a = utils.cmr_ml_utils_plotting.plot_image_array(np.transpose(np.squeeze(masks), (1, 2, 0)), columns=1, figsize=[16,16])"
   ]
  },
  {
   "cell_type": "markdown",
   "metadata": {},
   "source": [
    "## Construct data loaders"
   ]
  },
  {
   "cell_type": "code",
   "execution_count": 14,
   "metadata": {},
   "outputs": [
    {
     "name": "stdout",
     "output_type": "stream",
     "text": [
      "using device: cpu\n"
     ]
    }
   ],
   "source": [
    "USE_GPU = True\n",
    "\n",
    "if USE_GPU and torch.cuda.is_available():\n",
    "    device = torch.device('cuda')\n",
    "else:\n",
    "    device = torch.device('cpu')\n",
    "\n",
    "print('using device:', device)\n",
    "\n",
    "if torch.cuda.device_count() > 1:\n",
    "    print(\"Let's use\", torch.cuda.device_count(), \"GPUs!\")"
   ]
  },
  {
   "cell_type": "markdown",
   "metadata": {},
   "source": [
    "## Data augmentation"
   ]
  },
  {
   "cell_type": "code",
   "execution_count": 15,
   "metadata": {},
   "outputs": [],
   "source": [
    "class RandomFlip1stDim(object):\n",
    "    \"\"\"Randomly flip the first dimension of numpy array.\n",
    "    Args:\n",
    "        p (float): probability of the image being flipped. Default value is 0.5\n",
    "    \"\"\"\n",
    "\n",
    "    def __init__(self, p=0.5):\n",
    "        self.p = p\n",
    "\n",
    "    def __call__(self, img):\n",
    "        \"\"\"\n",
    "        Args:\n",
    "            img ([N RO E1 ... ]): Image to be flipped.\n",
    "        Returns:\n",
    "            res: Randomly flipped image.\n",
    "        \"\"\"\n",
    "        #print(img[0].shape)\n",
    "        #print(img[1].shape)\n",
    "            \n",
    "        if random.random() < self.p: \n",
    "                                \n",
    "            a = np.transpose(img[0], [1, 2, 0])\n",
    "            a = np.flipud(a)\n",
    "            a = np.transpose(a, [2, 0, 1])\n",
    "            \n",
    "            b = np.transpose(img[1], [1, 2, 0])\n",
    "            b = np.flipud(b)\n",
    "            b = np.transpose(b, [2, 0, 1])\n",
    "            return ( a.copy(), b.copy(), img[2] )\n",
    "        return img\n",
    "\n",
    "    def __repr__(self):\n",
    "        return self.__class__.__name__ + '(p={})'.format(self.p)\n",
    "    \n",
    "class RandomFlip2ndDim(object):\n",
    "    \"\"\"Randomly flip the second dimension of numpy array.\n",
    "    Args:\n",
    "        p (float): probability of the image being flipped. Default value is 0.5\n",
    "    \"\"\"\n",
    "\n",
    "    def __init__(self, p=0.5):\n",
    "        self.p = p\n",
    "\n",
    "    def __call__(self, img):\n",
    "        \"\"\"\n",
    "        Args:\n",
    "            img ([N RO E1 ... ]): Image to be flipped.\n",
    "        Returns:\n",
    "            res: Randomly flipped image.\n",
    "        \"\"\"\n",
    "        if random.random() < self.p:    \n",
    "            a = np.transpose(img[0], [1, 2, 0])\n",
    "            a = np.fliplr(a)\n",
    "            a = np.transpose(a, [2, 0, 1])\n",
    "            \n",
    "            b = np.transpose(img[1], [1, 2, 0])\n",
    "            b = np.fliplr(b)\n",
    "            b = np.transpose(b, [2, 0, 1])\n",
    "            return ( a.copy(), b.copy(), img[2] )\n",
    "        return img\n",
    "\n",
    "    def __repr__(self):\n",
    "        return self.__class__.__name__ + '(p={})'.format(self.p)"
   ]
  },
  {
   "cell_type": "code",
   "execution_count": 16,
   "metadata": {},
   "outputs": [],
   "source": [
    "import sys\n",
    "import torch\n",
    "import torch.nn as nn\n",
    "import torch.optim as optim\n",
    "import torch.nn.functional as F\n",
    "import numpy as np\n",
    "import scipy\n",
    "from scipy import ndimage\n",
    "\n",
    "# probs should be a 64x48 torch tensor\n",
    "def adaptive_thresh_cpu(probs, p_thresh=0.5, p_thresh_max=0.988):\n",
    "    # Try regular adaptive thresholding first\n",
    "    #p_thresh_max  = 0.988 # <-- Should not be too close to 1 to ensure while loop does not go over.\n",
    "\n",
    "    p_thresh_incr = 0.01\n",
    "    #p_thresh = 0.5\n",
    "\n",
    "    RO = probs.shape[0]\n",
    "    E1 = probs.shape[1]\n",
    "\n",
    "    try:\n",
    "        number_of_blobs = float(\"inf\")\n",
    "        blobs = np.zeros((RO,E1))\n",
    "        while number_of_blobs > 1 and p_thresh < p_thresh_max:\n",
    "            mask = (probs > torch.max(probs) * p_thresh).float()\n",
    "            blobs, number_of_blobs = ndimage.label(mask)\n",
    "            p_thresh += p_thresh_incr  # <-- Note this line can lead to float drift.\n",
    "    \n",
    "        if(number_of_blobs == 1):\n",
    "            return mask\n",
    "\n",
    "        if(number_of_blobs == 0):\n",
    "            mask = np.zeros((RO, E1))\n",
    "            print(\"adaptive_thresh_cpu, did not find any blobs ... \", file=sys.stderr)\n",
    "            sys.stderr.flush()\n",
    "            return mask\n",
    "\n",
    "        ## If we are here then we cannot isolate a singular blob as the LV.\n",
    "        ## Select the largest blob as the final mask.\n",
    "        biggest_blob = (0, torch.zeros(RO,E1))\n",
    "        for i in range(number_of_blobs):\n",
    "            one_blob = torch.tensor((blobs == i+1).astype(int), dtype=torch.uint8)\n",
    "            area = torch.sum(one_blob)\n",
    "            if(area > biggest_blob[0]):\n",
    "                biggest_blob = (area, one_blob)\n",
    "\n",
    "        return biggest_blob[1]\n",
    "\n",
    "    except Exception as e:\n",
    "        print(\"Error happened in adaptive_thresh_cpu ...\")\n",
    "        print(e)\n",
    "        sys.stderr.flush()\n",
    "        mask = np.zeros((RO,E1))\n",
    "\n",
    "    return mask"
   ]
  },
  {
   "cell_type": "code",
   "execution_count": 17,
   "metadata": {},
   "outputs": [],
   "source": [
    "def compute_dice_scores(best_model, loader, aif_trainer, binary_seg=False):\n",
    "    # get dice for all LV in validation set\n",
    "    dice_scores = []\n",
    "    cases = []\n",
    "    best_model = best_model.cuda() \n",
    "\n",
    "    ind = 0\n",
    "\n",
    "    best_model.eval()  # set model to evaluation mode\n",
    "           \n",
    "    for t, (x, y, names) in enumerate(loader):        \n",
    "\n",
    "        x = x.to(aif_trainer.x_dtype).cuda() \n",
    "        y = y.to(aif_trainer.y_dtype).cuda()\n",
    "       \n",
    "        with torch.no_grad():\n",
    "            scores = best_model(x)\n",
    "\n",
    "        # loss = aif_trainer.compute_loss(scores, y)\n",
    "\n",
    "        if(binary_seg):\n",
    "            probs = F.sigmoid(scores)\n",
    "        else:\n",
    "            m = torch.nn.Softmax(dim=1)\n",
    "            probs = m(scores)\n",
    "\n",
    "        probs = probs.cpu().detach()\n",
    "\n",
    "        N = x.shape[0]\n",
    "        \n",
    "        aif_mask = y.cpu().detach().numpy()        \n",
    "            \n",
    "        for n in range(N):\n",
    "            \n",
    "            if(binary_seg):\n",
    "                lv_probs = probs[n, 0, :, :]\n",
    "            else:\n",
    "                lv_probs = probs[n, 1, :, :]\n",
    "            # lv_mask = training.adaptive_thresh(lv_probs, device=torch.device('cpu'), p_thresh=0.5)\n",
    "            #lv_mask = lv_mask.cpu().detach().numpy()\n",
    "            \n",
    "            #lv_probs = lv_probs.cpu().detach().numpy()\n",
    "            #lv_probs = np.squeeze(lv_probs)\n",
    "            \n",
    "            lv_probs = lv_probs.cpu().detach()\n",
    "            lv_mask = adaptive_thresh_cpu(lv_probs, p_thresh=0.5)\n",
    "                        \n",
    "            lv_mask = lv_mask.detach().numpy()\n",
    "            lv_aif_mask = np.zeros(lv_mask.shape)\n",
    "            lv_aif_mask[np.where(np.squeeze(aif_mask[n, 0, :,:]==1))] = 1\n",
    "\n",
    "            ds = training.dice(lv_aif_mask, lv_mask)\n",
    "\n",
    "            if(ds<0.1):\n",
    "                print(names[n])\n",
    "                curr_probs = probs[n, :, :, :].numpy()\n",
    "                curr_probs = np.transpose(curr_probs, (2, 1, 0))\n",
    "                a = utils.cmr_ml_utils_plotting.plot_image_array(np.squeeze(curr_probs), columns=8, figsize=[16,16])\n",
    "                a = utils.cmr_ml_utils_plotting.plot_image_array(lv_aif_mask, columns=8, figsize=[16,16])\n",
    "                a = utils.cmr_ml_utils_plotting.plot_image_array(lv_mask, columns=8, figsize=[16,16])\n",
    "    \n",
    "            dice_scores.append(ds)\n",
    "            cases.append(names[n])\n",
    "    \n",
    "    return dice_scores, cases"
   ]
  },
  {
   "cell_type": "code",
   "execution_count": 18,
   "metadata": {},
   "outputs": [],
   "source": [
    "def get_failed_cases(dice_scores, cases, thres=0.5, print_failed=True):\n",
    "    total_samples = len(dice_scores)\n",
    "    sucess_samples = 0\n",
    "    failed_cases = []\n",
    "    failed_dices = []\n",
    "    for k in range(total_samples):\n",
    "        if(dice_scores[k]>=thres):\n",
    "            sucess_samples = sucess_samples + 1\n",
    "        else:\n",
    "            if(print_failed):\n",
    "                print(\"case %s, dice %f \" % (cases[k], dice_scores[k]))\n",
    "                \n",
    "            failed_cases.append(cases[k])\n",
    "            failed_dices.append(dice_scores[k])\n",
    "\n",
    "    success_rate = sucess_samples/total_samples\n",
    "    print(\"Total test samples is \", total_samples)  \n",
    "    print(\"Success rate is \", success_rate)  \n",
    "    \n",
    "    return failed_cases, failed_dices, success_rate"
   ]
  },
  {
   "cell_type": "code",
   "execution_count": 19,
   "metadata": {},
   "outputs": [],
   "source": [
    "def load_apply_model_multi_class(img_dir, case_name, model, device):\n",
    "    \n",
    "    data_dir = os.path.join(img_dir, case_name)\n",
    "\n",
    "    model_device = device\n",
    "    \n",
    "    print(data_dir)\n",
    "\n",
    "    Gd = np.load(os.path.join(data_dir, 'aif.npy'))\n",
    "    RO, E1, N = Gd.shape\n",
    "\n",
    "    try:\n",
    "        aif_mask = np.load(os.path.join(data_dir, 'aif_masks_final.npy'))\n",
    "    except:\n",
    "        aif_mask = np.load(os.path.join(data_dir, 'aif_masks.npy'))\n",
    "\n",
    "    Gd = Gd[:,:,0:64]\n",
    "    s = int((E1-48)/2)\n",
    "    Gd = Gd[:,s:s+48,:]\n",
    "\n",
    "    Gd = np.transpose(Gd, (2, 0, 1))\n",
    "    Gd = np.reshape(Gd, (1, Gd.shape[0], Gd.shape[1], Gd.shape[2]))\n",
    "    Gd /= np.max(Gd)\n",
    "\n",
    "    aif = torch.from_numpy(Gd).float()\n",
    "    aif = aif.to(device=model_device)\n",
    "    model.eval() \n",
    "    with torch.no_grad():\n",
    "        scores = model(aif)\n",
    "\n",
    "    m = torch.nn.Softmax(dim=1)\n",
    "    probs = m(scores)\n",
    "\n",
    "    probs = probs.cpu().detach()\n",
    "    \n",
    "    lv_probs = probs[0, 1, :, :]\n",
    "    lv_mask = training.adaptive_thresh(lv_probs, device=torch.device('cpu'), p_thresh=0.5)\n",
    "    \n",
    "    lv_mask = lv_mask.cpu().detach().numpy()\n",
    "    probs = probs.cpu().detach().numpy()\n",
    "    probs = np.squeeze(np.transpose(probs, (2, 3, 1, 0)))\n",
    "    \n",
    "    a = utils.cmr_ml_utils_plotting.plot_image_array(probs, columns=8, figsize=[16,16])\n",
    "    a = utils.cmr_ml_utils_plotting.plot_image_array(aif_mask, columns=8, figsize=[16,16])\n",
    "    a = utils.cmr_ml_utils_plotting.plot_image_array(lv_mask, columns=8, figsize=[16,16])\n",
    "    \n",
    "    return probs, lv_mask, aif_mask"
   ]
  },
  {
   "cell_type": "markdown",
   "metadata": {},
   "source": [
    "## Train with multi-class trainer"
   ]
  },
  {
   "cell_type": "code",
   "execution_count": 20,
   "metadata": {},
   "outputs": [],
   "source": [
    "# data augmenation for random flipping\n",
    "transform = torchvision.transforms.Compose([RandomFlip1stDim(0.5), RandomFlip2ndDim(0.5)])"
   ]
  },
  {
   "cell_type": "code",
   "execution_count": 21,
   "metadata": {},
   "outputs": [],
   "source": [
    "perf_aif_dataset.transform = transform"
   ]
  },
  {
   "cell_type": "code",
   "execution_count": 22,
   "metadata": {},
   "outputs": [],
   "source": [
    "perf_aif_dataset.which_mask = 'lv_rv'\n",
    "num_classes = 3\n",
    "class_for_accu = [1, 2]\n",
    "class_weights = np.ones(num_classes)\n",
    "class_weights[1] = 5\n",
    "p_thres = [0.5, 0.5, 0.75]"
   ]
  },
  {
   "cell_type": "code",
   "execution_count": 23,
   "metadata": {},
   "outputs": [
    {
     "name": "stdout",
     "output_type": "stream",
     "text": [
      "lv_rv\n",
      "(1, 64, 48)\n"
     ]
    },
    {
     "data": {
      "text/plain": [
       "<matplotlib.image.AxesImage at 0x21c781dd288>"
      ]
     },
     "execution_count": 23,
     "metadata": {},
     "output_type": "execute_result"
    },
    {
     "data": {
      "image/png": "[encoded data removed]",
      "text/plain": [
       "<Figure size 432x288 with 1 Axes>"
      ]
     },
     "metadata": {
      "needs_background": "light"
     },
     "output_type": "display_data"
    }
   ],
   "source": [
    "print(perf_aif_dataset.which_mask)\n",
    "\n",
    "sample = perf_aif_dataset[1]\n",
    "\n",
    "print(sample[1].shape)\n",
    "\n",
    "plt.figure()\n",
    "plt.imshow(np.squeeze(sample[1]))"
   ]
  },
  {
   "cell_type": "code",
   "execution_count": 24,
   "metadata": {},
   "outputs": [
    {
     "ename": "StopIteration",
     "evalue": "",
     "output_type": "error",
     "traceback": [
      "\u001b[1;31m---------------------------------------------------------------------------\u001b[0m",
      "\u001b[1;31mStopIteration\u001b[0m                             Traceback (most recent call last)",
      "\u001b[1;32m<ipython-input-24-c99a52f47bb6>\u001b[0m in \u001b[0;36m<module>\u001b[1;34m\u001b[0m\n\u001b[1;32m----> 1\u001b[1;33m \u001b[0mimages\u001b[0m\u001b[1;33m,\u001b[0m \u001b[0mmasks\u001b[0m\u001b[1;33m,\u001b[0m \u001b[0mnames\u001b[0m \u001b[1;33m=\u001b[0m \u001b[0miter_train\u001b[0m\u001b[1;33m.\u001b[0m\u001b[0mnext\u001b[0m\u001b[1;33m(\u001b[0m\u001b[1;33m)\u001b[0m\u001b[1;33m\u001b[0m\u001b[1;33m\u001b[0m\u001b[0m\n\u001b[0m\u001b[0;32m      2\u001b[0m \u001b[1;33m\u001b[0m\u001b[0m\n\u001b[0;32m      3\u001b[0m \u001b[0mB\u001b[0m\u001b[1;33m,\u001b[0m \u001b[0mC\u001b[0m\u001b[1;33m,\u001b[0m \u001b[0mRO\u001b[0m\u001b[1;33m,\u001b[0m \u001b[0mE1\u001b[0m \u001b[1;33m=\u001b[0m \u001b[0mimages\u001b[0m\u001b[1;33m.\u001b[0m\u001b[0mshape\u001b[0m\u001b[1;33m\u001b[0m\u001b[1;33m\u001b[0m\u001b[0m\n\u001b[0;32m      4\u001b[0m \u001b[1;33m\u001b[0m\u001b[0m\n\u001b[0;32m      5\u001b[0m \u001b[0mprint\u001b[0m\u001b[1;33m(\u001b[0m\u001b[0mimages\u001b[0m\u001b[1;33m.\u001b[0m\u001b[0mshape\u001b[0m\u001b[1;33m)\u001b[0m\u001b[1;33m\u001b[0m\u001b[1;33m\u001b[0m\u001b[0m\n",
      "\u001b[1;32m~\\Anaconda3\\envs\\qperf\\lib\\site-packages\\torch\\utils\\data\\dataloader.py\u001b[0m in \u001b[0;36m__next__\u001b[1;34m(self)\u001b[0m\n\u001b[0;32m    433\u001b[0m         \u001b[1;32mif\u001b[0m \u001b[0mself\u001b[0m\u001b[1;33m.\u001b[0m\u001b[0m_sampler_iter\u001b[0m \u001b[1;32mis\u001b[0m \u001b[1;32mNone\u001b[0m\u001b[1;33m:\u001b[0m\u001b[1;33m\u001b[0m\u001b[1;33m\u001b[0m\u001b[0m\n\u001b[0;32m    434\u001b[0m             \u001b[0mself\u001b[0m\u001b[1;33m.\u001b[0m\u001b[0m_reset\u001b[0m\u001b[1;33m(\u001b[0m\u001b[1;33m)\u001b[0m\u001b[1;33m\u001b[0m\u001b[1;33m\u001b[0m\u001b[0m\n\u001b[1;32m--> 435\u001b[1;33m         \u001b[0mdata\u001b[0m \u001b[1;33m=\u001b[0m \u001b[0mself\u001b[0m\u001b[1;33m.\u001b[0m\u001b[0m_next_data\u001b[0m\u001b[1;33m(\u001b[0m\u001b[1;33m)\u001b[0m\u001b[1;33m\u001b[0m\u001b[1;33m\u001b[0m\u001b[0m\n\u001b[0m\u001b[0;32m    436\u001b[0m         \u001b[0mself\u001b[0m\u001b[1;33m.\u001b[0m\u001b[0m_num_yielded\u001b[0m \u001b[1;33m+=\u001b[0m \u001b[1;36m1\u001b[0m\u001b[1;33m\u001b[0m\u001b[1;33m\u001b[0m\u001b[0m\n\u001b[0;32m    437\u001b[0m         \u001b[1;32mif\u001b[0m \u001b[0mself\u001b[0m\u001b[1;33m.\u001b[0m\u001b[0m_dataset_kind\u001b[0m \u001b[1;33m==\u001b[0m \u001b[0m_DatasetKind\u001b[0m\u001b[1;33m.\u001b[0m\u001b[0mIterable\u001b[0m \u001b[1;32mand\u001b[0m\u001b[0;31m \u001b[0m\u001b[0;31m\\\u001b[0m\u001b[1;33m\u001b[0m\u001b[1;33m\u001b[0m\u001b[0m\n",
      "\u001b[1;32m~\\Anaconda3\\envs\\qperf\\lib\\site-packages\\torch\\utils\\data\\dataloader.py\u001b[0m in \u001b[0;36m_next_data\u001b[1;34m(self)\u001b[0m\n\u001b[0;32m    472\u001b[0m \u001b[1;33m\u001b[0m\u001b[0m\n\u001b[0;32m    473\u001b[0m     \u001b[1;32mdef\u001b[0m \u001b[0m_next_data\u001b[0m\u001b[1;33m(\u001b[0m\u001b[0mself\u001b[0m\u001b[1;33m)\u001b[0m\u001b[1;33m:\u001b[0m\u001b[1;33m\u001b[0m\u001b[1;33m\u001b[0m\u001b[0m\n\u001b[1;32m--> 474\u001b[1;33m         \u001b[0mindex\u001b[0m \u001b[1;33m=\u001b[0m \u001b[0mself\u001b[0m\u001b[1;33m.\u001b[0m\u001b[0m_next_index\u001b[0m\u001b[1;33m(\u001b[0m\u001b[1;33m)\u001b[0m  \u001b[1;31m# may raise StopIteration\u001b[0m\u001b[1;33m\u001b[0m\u001b[1;33m\u001b[0m\u001b[0m\n\u001b[0m\u001b[0;32m    475\u001b[0m         \u001b[0mdata\u001b[0m \u001b[1;33m=\u001b[0m \u001b[0mself\u001b[0m\u001b[1;33m.\u001b[0m\u001b[0m_dataset_fetcher\u001b[0m\u001b[1;33m.\u001b[0m\u001b[0mfetch\u001b[0m\u001b[1;33m(\u001b[0m\u001b[0mindex\u001b[0m\u001b[1;33m)\u001b[0m  \u001b[1;31m# may raise StopIteration\u001b[0m\u001b[1;33m\u001b[0m\u001b[1;33m\u001b[0m\u001b[0m\n\u001b[0;32m    476\u001b[0m         \u001b[1;32mif\u001b[0m \u001b[0mself\u001b[0m\u001b[1;33m.\u001b[0m\u001b[0m_pin_memory\u001b[0m\u001b[1;33m:\u001b[0m\u001b[1;33m\u001b[0m\u001b[1;33m\u001b[0m\u001b[0m\n",
      "\u001b[1;32m~\\Anaconda3\\envs\\qperf\\lib\\site-packages\\torch\\utils\\data\\dataloader.py\u001b[0m in \u001b[0;36m_next_index\u001b[1;34m(self)\u001b[0m\n\u001b[0;32m    425\u001b[0m \u001b[1;33m\u001b[0m\u001b[0m\n\u001b[0;32m    426\u001b[0m     \u001b[1;32mdef\u001b[0m \u001b[0m_next_index\u001b[0m\u001b[1;33m(\u001b[0m\u001b[0mself\u001b[0m\u001b[1;33m)\u001b[0m\u001b[1;33m:\u001b[0m\u001b[1;33m\u001b[0m\u001b[1;33m\u001b[0m\u001b[0m\n\u001b[1;32m--> 427\u001b[1;33m         \u001b[1;32mreturn\u001b[0m \u001b[0mnext\u001b[0m\u001b[1;33m(\u001b[0m\u001b[0mself\u001b[0m\u001b[1;33m.\u001b[0m\u001b[0m_sampler_iter\u001b[0m\u001b[1;33m)\u001b[0m  \u001b[1;31m# may raise StopIteration\u001b[0m\u001b[1;33m\u001b[0m\u001b[1;33m\u001b[0m\u001b[0m\n\u001b[0m\u001b[0;32m    428\u001b[0m \u001b[1;33m\u001b[0m\u001b[0m\n\u001b[0;32m    429\u001b[0m     \u001b[1;32mdef\u001b[0m \u001b[0m_next_data\u001b[0m\u001b[1;33m(\u001b[0m\u001b[0mself\u001b[0m\u001b[1;33m)\u001b[0m\u001b[1;33m:\u001b[0m\u001b[1;33m\u001b[0m\u001b[1;33m\u001b[0m\u001b[0m\n",
      "\u001b[1;31mStopIteration\u001b[0m: "
     ]
    }
   ],
   "source": [
    "images, masks, names = iter_train.next()\n",
    "\n",
    "B, C, RO, E1 = images.shape\n",
    "\n",
    "print(images.shape)\n",
    "print(masks.shape)\n",
    "print(torch.max(images))\n",
    "print(torch.max(masks))\n",
    "\n",
    "a = images[:,32,:,:]\n",
    "a = torch.reshape(a, (B, 1, RO, E1))\n",
    "\n",
    "plt.figure(figsize=(8, 8))\n",
    "show(make_grid(a.double(), nrow=8, padding=2, normalize=False, scale_each=True))\n",
    "\n",
    "plt.figure(figsize=(8, 8))\n",
    "show(make_grid(masks.double(), nrow=8, padding=2, normalize=True, scale_each=False))\n",
    "\n",
    "X = images.type(torch.FloatTensor)\n",
    "y = masks.type(torch.FloatTensor)\n",
    "print(X.shape)\n",
    "print(y.shape)"
   ]
  },
  {
   "cell_type": "code",
   "execution_count": 25,
   "metadata": {},
   "outputs": [],
   "source": [
    "def perform_training(hyperpara, perf_aif_dataset, loader_for_train, loader_for_val):\n",
    "    \n",
    "    num_epochs = hyperpara['num_epochs']\n",
    "    print_every = 100000\n",
    "\n",
    "    inplanes = hyperpara['inplanes']\n",
    "    layers = hyperpara['layers']\n",
    "    layers_planes = hyperpara['layers_planes']\n",
    "    \n",
    "    class_weights = hyperpara['class_weights']\n",
    "    jaccard_weight = hyperpara['jaccard_weight']\n",
    "    \n",
    "    print('======================================================')\n",
    "    print('num_epochs ', num_epochs)\n",
    "    print('inplanes ', inplanes)\n",
    "    print('layers ', layers)\n",
    "    print('layers_planes ', layers_planes)\n",
    "    print('class_weights ', class_weights)\n",
    "    print('jaccard_weight ', jaccard_weight)\n",
    "    print('======================================================')\n",
    "    \n",
    "    perf_aif_dataset.which_mask = 'lv_rv'\n",
    "    num_classes = 3\n",
    "    class_for_accu = [1, 2]\n",
    "    p_thres = [0.5, 0.5, 0.75]\n",
    "\n",
    "    print(perf_aif_dataset.aif[0].shape)\n",
    "    C, H, W = perf_aif_dataset.aif[0].shape\n",
    "\n",
    "    model = models.GadgetronResUnet18(F0=C, \n",
    "                              inplanes=inplanes, \n",
    "                              layers=layers, \n",
    "                              layers_planes=layers_planes, \n",
    "                              use_dropout=False, \n",
    "                              p=0.5, \n",
    "                              H=H, W=W, C=num_classes,\n",
    "                              verbose=True)\n",
    "\n",
    "    if torch.cuda.device_count() > 1:\n",
    "        model = nn.DataParallel(model)\n",
    "        print(\"model on multiple GPU ... \")\n",
    "\n",
    "    patience = 10\n",
    "    factor = 0.5\n",
    "    cooldown = 3\n",
    "    min_lr = 1e-7\n",
    "\n",
    "    weight_decay=0\n",
    "    learning_rate = 1e-3\n",
    "\n",
    "    optimizer = optim.Adam(model.parameters(), lr=learning_rate, betas=(0.9, 0.999), eps=1e-08, weight_decay=weight_decay, amsgrad=False)\n",
    "\n",
    "    # optimizer = optim.SGD(model.parameters(), lr=learning_rate, momentum=0.9, weight_decay=weight_decay, nesterov=True)\n",
    "\n",
    "    scheduler = torch.optim.lr_scheduler.ReduceLROnPlateau(optimizer, 'min', patience=patience, cooldown=cooldown, min_lr=min_lr, verbose=True)\n",
    "\n",
    "    CW = np.ones(num_classes)\n",
    "    CW[1] = class_weights\n",
    "    criterion = training.LossMulti(class_weights=CW, jaccard_weight=jaccard_weight)\n",
    "\n",
    "    log_dir = 'aif_training/ResUnet' + '_lr_' + str(learning_rate) + '_epochs_' + str(num_epochs)\n",
    "    writer = SummaryWriter(log_dir)\n",
    "    \n",
    "    aif_trainer = training.GadgetronMultiClassSeg_Perf(model, \n",
    "                                   optimizer, \n",
    "                                   criterion, \n",
    "                                   loader_for_train, \n",
    "                                   loader_for_val, \n",
    "                                   class_for_accu=class_for_accu,\n",
    "                                   p_thres = p_thres,\n",
    "                                   scheduler=scheduler, \n",
    "                                   epochs=num_epochs, \n",
    "                                   device=device, \n",
    "                                   x_dtype=torch.float32, \n",
    "                                   y_dtype=torch.long, \n",
    "                                   early_stopping_thres = 100,                              \n",
    "                                   print_every=print_every, \n",
    "                                   writer=writer, \n",
    "                                   model_folder=\"perf_training/\")\n",
    "    \n",
    "    \n",
    "    epochs_traning, epochs_validation, best_model, loss_all, epochs_acc_class = aif_trainer.train(verbose=True, epoch_to_load=-1, save_model_epoch=True)\n",
    "    \n",
    "    dice_scores, cases = compute_dice_scores(best_model, loader_for_val, aif_trainer)\n",
    "    failed_cases, failed_dices, success_rate = get_failed_cases(dice_scores, cases, thres=0.5, print_failed=False)   \n",
    "    scipy.io.savemat(os.path.join(img_dir, 'perf_aif_lv_rv_val_failed.mat'), {\"cases\":failed_cases, \"dices\":failed_dices, \"dice_scores\":dice_scores, \"cases\":cases})\n",
    "    \n",
    "    dice_scores_train, cases_train = compute_dice_scores(best_model, loader_for_train, aif_trainer)\n",
    "    failed_cases_train, failed_dices_train, success_rate_train = get_failed_cases(dice_scores_train, cases_train, thres=0.5, print_failed=False) \n",
    "\n",
    "    hyperpara['best_model'] = best_model\n",
    "    hyperpara['epochs_traning'] = epochs_traning\n",
    "    hyperpara['epochs_validation'] = epochs_validation\n",
    "    hyperpara['loss_all'] = loss_all\n",
    "    hyperpara['epochs_acc_class'] = epochs_acc_class\n",
    "    \n",
    "    hyperpara['dice_scores'] = dice_scores\n",
    "    hyperpara['cases'] = cases\n",
    "    hyperpara['failed_cases'] = failed_cases\n",
    "    hyperpara['failed_dices'] = failed_dices\n",
    "    hyperpara['success_rate'] = success_rate\n",
    "    \n",
    "    hyperpara['dice_scores_train'] = dice_scores\n",
    "    hyperpara['cases_train'] = cases\n",
    "    \n",
    "    return hyperpara"
   ]
  },
  {
   "cell_type": "code",
   "execution_count": 26,
   "metadata": {},
   "outputs": [
    {
     "name": "stdout",
     "output_type": "stream",
     "text": [
      "-----------------------------------------------\n",
      "0 0 0\n"
     ]
    },
    {
     "ename": "NameError",
     "evalue": "name 'chunk' is not defined",
     "output_type": "error",
     "traceback": [
      "\u001b[1;31m---------------------------------------------------------------------------\u001b[0m",
      "\u001b[1;31mNameError\u001b[0m                                 Traceback (most recent call last)",
      "\u001b[1;32m<ipython-input-26-c7af734a631f>\u001b[0m in \u001b[0;36m<module>\u001b[1;34m\u001b[0m\n\u001b[0;32m     30\u001b[0m \u001b[1;33m\u001b[0m\u001b[0m\n\u001b[0;32m     31\u001b[0m             \u001b[1;31m# Chunk into k random sets\u001b[0m\u001b[1;33m\u001b[0m\u001b[1;33m\u001b[0m\u001b[1;33m\u001b[0m\u001b[0m\n\u001b[1;32m---> 32\u001b[1;33m             \u001b[0mchunks\u001b[0m \u001b[1;33m=\u001b[0m \u001b[0mchunk\u001b[0m\u001b[1;33m(\u001b[0m\u001b[0mrange\u001b[0m\u001b[1;33m(\u001b[0m\u001b[0mlen\u001b[0m\u001b[1;33m(\u001b[0m\u001b[0mperf_aif_dataset\u001b[0m\u001b[1;33m)\u001b[0m\u001b[1;33m)\u001b[0m\u001b[1;33m,\u001b[0m \u001b[0mk\u001b[0m\u001b[1;33m)\u001b[0m\u001b[1;33m\u001b[0m\u001b[1;33m\u001b[0m\u001b[0m\n\u001b[0m\u001b[0;32m     33\u001b[0m             \u001b[0mlistified_chunks\u001b[0m \u001b[1;33m=\u001b[0m \u001b[0mlist\u001b[0m\u001b[1;33m(\u001b[0m\u001b[0mchunks\u001b[0m\u001b[1;33m)\u001b[0m\u001b[1;33m\u001b[0m\u001b[1;33m\u001b[0m\u001b[0m\n\u001b[0;32m     34\u001b[0m \u001b[1;33m\u001b[0m\u001b[0m\n",
      "\u001b[1;31mNameError\u001b[0m: name 'chunk' is not defined"
     ]
    }
   ],
   "source": [
    "# hyper parameter search\n",
    "layers_planes = [[96, 128], [128, 128], [128, 256]]\n",
    "layers = [[2, 3], [3, 3], [3, 4], [4, 4], [4, 5]]\n",
    "inplanes = [64, 96, 128]\n",
    "\n",
    "best_success_rate = 0\n",
    "best_hyperpara = None\n",
    "\n",
    "hyperpara_all = []\n",
    "\n",
    "for a in range(len(layers_planes)):\n",
    "    for b in range(len(layers)):\n",
    "        for c in range(len(inplanes)):\n",
    "            \n",
    "            print('-----------------------------------------------')\n",
    "            print(a, b, c)\n",
    "            \n",
    "            hyperpara = dict()\n",
    "            \n",
    "            hyperpara['num_epochs'] = 40\n",
    "            hyperpara['inplanes'] = inplanes[c]\n",
    "            hyperpara['layers'] = layers[b]\n",
    "            hyperpara['layers_planes'] = layers_planes[a]\n",
    "    \n",
    "            hyperpara['class_weights'] = 5.0\n",
    "            hyperpara['jaccard_weight'] = 0.5\n",
    "            \n",
    "            k = 12\n",
    "            batch_size = 256\n",
    "\n",
    "            # Chunk into k random sets\n",
    "            chunks = chunk(range(len(perf_aif_dataset)), k)\n",
    "            listified_chunks = list(chunks)\n",
    "\n",
    "            val_idxs = listified_chunks[0]\n",
    "            train_idxs = listified_chunks[1:]\n",
    "            train_idxs = [item for sublist in train_idxs for item in sublist]\n",
    "\n",
    "            num_train = len(train_idxs)\n",
    "            num_val = len(val_idxs)\n",
    "\n",
    "            loader_for_train = DataLoader(perf_aif_dataset, batch_size=batch_size, \n",
    "                                      sampler=sampler.SubsetRandomSampler(train_idxs))\n",
    "\n",
    "            loader_for_val = DataLoader(perf_aif_dataset, batch_size=batch_size, \n",
    "                                    sampler=sampler.SubsetRandomSampler(val_idxs))\n",
    "\n",
    "            num_train = len(train_idxs)\n",
    "            print('num_train = %d' % num_train)\n",
    "            num_val = len(val_idxs)\n",
    "            print('num_val = %d' % num_val)\n",
    "            \n",
    "            hyperpara = perform_training(hyperpara, perf_aif_dataset, loader_for_train, loader_for_val)\n",
    "            \n",
    "            # print(hyperpara)\n",
    "            print('success rate - ', hyperpara['success_rate'])\n",
    "            \n",
    "            if(hyperpara['success_rate']>best_success_rate):\n",
    "                best_success_rate = hyperpara['success_rate']\n",
    "                best_hyperpara = hyperpara\n",
    "                \n",
    "            hyperpara_all.append(hyperpara)"
   ]
  },
  {
   "cell_type": "code",
   "execution_count": 27,
   "metadata": {},
   "outputs": [
    {
     "name": "stdout",
     "output_type": "stream",
     "text": [
      "(64, 64, 48)\n",
      "GadgetronResUnet : F0=64, inplanes=96\n",
      "------------------------------------------------------------\n",
      "    GadgetronResUnetInputBlock : input size (64, 64, 48), output size (96, 64, 48) --> (96, 64, 48)\n",
      "------------------------------------------------------------\n",
      "    GadgetronResUnet, down layer 0:\n",
      "        GadgetronResUnet, down layer (64, 48) -> (32, 24)\n",
      "        GadgetronResUnetBasicBlock : input size (96, 32, 24), output size (128, 32, 24) --> (128, 32, 24)\n",
      "        GadgetronResUnetBasicBlock : input size (128, 32, 24), output size (128, 32, 24) --> (128, 32, 24)\n",
      "    GadgetronResUnet, down layer 1:\n",
      "        GadgetronResUnet, down layer (32, 24) -> (16, 12)\n",
      "        GadgetronResUnetBasicBlock : input size (128, 16, 12), output size (128, 16, 12) --> (128, 16, 12)\n",
      "        GadgetronResUnetBasicBlock : input size (128, 16, 12), output size (128, 16, 12) --> (128, 16, 12)\n",
      "        GadgetronResUnetBasicBlock : input size (128, 16, 12), output size (128, 16, 12) --> (128, 16, 12)\n",
      "------------------------------------------------------------\n",
      "    GadgetronResUnet, bridge layer (128, 16, 12) --> (128, 16, 12)\n",
      "        GadgetronResUnet, down layer (16, 12) -> (8, 6)\n",
      "        GadgetronResUnetBasicBlock : input size (128, 8, 6), output size (128, 8, 6) --> (128, 8, 6)\n",
      "        GadgetronResUnetBasicBlock : input size (128, 8, 6), output size (128, 8, 6) --> (128, 8, 6)\n",
      "        GadgetronResUnetBasicBlock : input size (128, 8, 6), output size (128, 8, 6) --> (128, 8, 6)\n",
      "------------------------------------------------------------\n",
      "    GadgetronResUnet, up layer 0:\n",
      "        GadgetronResUnet_UpSample : input size (256, 8, 6), upsampled size (256, 16, 12)\n",
      "        GadgetronResUnetBasicBlock : input size (256, 16, 12), output size (128, 16, 12) --> (128, 16, 12)\n",
      "        GadgetronResUnetBasicBlock : input size (128, 16, 12), output size (128, 16, 12) --> (128, 16, 12)\n",
      "        GadgetronResUnetBasicBlock : input size (128, 16, 12), output size (128, 16, 12) --> (128, 16, 12)\n",
      "    GadgetronResUnet, up layer 1:\n",
      "        GadgetronResUnet_UpSample : input size (256, 16, 12), upsampled size (256, 32, 24)\n",
      "        GadgetronResUnetBasicBlock : input size (256, 32, 24), output size (96, 32, 24) --> (96, 32, 24)\n",
      "        GadgetronResUnetBasicBlock : input size (96, 32, 24), output size (96, 32, 24) --> (96, 32, 24)\n",
      "    GadgetronResUnet, up layer 2:\n",
      "        GadgetronResUnet_UpSample : input size (192, 32, 24), upsampled size (192, 64, 48)\n",
      "        GadgetronResUnetBasicBlock : input size (192, 64, 48), output size (96, 64, 48) --> (96, 64, 48)\n",
      "        GadgetronResUnetBasicBlock : input size (96, 64, 48), output size (96, 64, 48) --> (96, 64, 48)\n",
      "------------------------------------------------------------\n",
      "Output layer (96, 64, 48) --> (3, 64, 48)\n",
      "------------------------------------------------------------\n"
     ]
    }
   ],
   "source": [
    "num_epochs = 50\n",
    "print_every = 100000\n",
    "\n",
    "# resnet\n",
    "inplanes = 96\n",
    "layers=[4, 4]\n",
    "layers_planes=[128, 128]\n",
    "growth_rate = 8\n",
    "\n",
    "#dense net\n",
    "inplanes = 64\n",
    "layers=[3, 3]\n",
    "layers_planes=[16, 32]\n",
    "growth_rate = 16\n",
    "\n",
    "# resnet, small\n",
    "inplanes = 96\n",
    "layers=[2, 3]\n",
    "layers_planes=[128, 128]\n",
    "growth_rate = 8\n",
    "\n",
    "print(perf_aif_dataset.aif[0].shape)\n",
    "C, H, W = perf_aif_dataset.aif[0].shape\n",
    "\n",
    "model = models.GadgetronResUnet18(F0=C, \n",
    "                          inplanes=inplanes, \n",
    "                          layers=layers, \n",
    "                          layers_planes=layers_planes, \n",
    "                          use_dropout=False, \n",
    "                          p=0.5, \n",
    "                          H=H, W=W, C=num_classes,\n",
    "                          verbose=True)\n",
    "\n",
    "if torch.cuda.device_count() > 1:\n",
    "    model = nn.DataParallel(model)\n",
    "    print(\"model on multiple GPU ... \")\n",
    "\n",
    "patience = 10\n",
    "factor = 0.5\n",
    "cooldown = 3\n",
    "min_lr = 1e-7\n",
    "\n",
    "weight_decay=0\n",
    "learning_rate = 1e-3\n",
    "\n",
    "optimizer = optim.Adam(model.parameters(), lr=learning_rate, betas=(0.9, 0.999), eps=1e-08, weight_decay=weight_decay, amsgrad=False)\n",
    "\n",
    "# optimizer = optim.SGD(model.parameters(), lr=learning_rate, momentum=0.9, weight_decay=weight_decay, nesterov=True)\n",
    "\n",
    "scheduler = torch.optim.lr_scheduler.ReduceLROnPlateau(optimizer, 'min', patience=patience, cooldown=cooldown, min_lr=min_lr, verbose=True)\n",
    "\n",
    "criterion = training.LossMulti(class_weights=class_weights, jaccard_weight=0.5)\n",
    "# criterion = nn.BCEWithLogitsLoss()\n",
    "# criterion = nn.BCELoss()\n",
    "\n",
    "log_dir = './aif_training/ResUnet' + '_lr_' + str(learning_rate) + '_epochs_' + str(num_epochs)\n",
    "writer = SummaryWriter(log_dir)"
   ]
  },
  {
   "cell_type": "code",
   "execution_count": 28,
   "metadata": {},
   "outputs": [],
   "source": [
    "aif_trainer = training.GadgetronMultiClassSeg_Perf(model, \n",
    "                                   optimizer, \n",
    "                                   criterion, \n",
    "                                   loader_for_train, \n",
    "                                   loader_for_val, \n",
    "                                   class_for_accu=class_for_accu,\n",
    "                                   p_thres = p_thres,\n",
    "                                   scheduler=scheduler, \n",
    "                                   epochs=num_epochs, \n",
    "                                   device=device, \n",
    "                                   x_dtype=torch.float32, \n",
    "                                   y_dtype=torch.long, \n",
    "                                   early_stopping_thres = 100,                              \n",
    "                                   print_every=print_every,\n",
    "                                   small_data_mode = False, \n",
    "                                   writer=writer, \n",
    "                                   model_folder=\"aif_training/\")"
   ]
  },
  {
   "cell_type": "code",
   "execution_count": 29,
   "metadata": {},
   "outputs": [
    {
     "name": "stdout",
     "output_type": "stream",
     "text": [
      "50\n",
      "Start training ... \n",
      "Adam (\n",
      "Parameter Group 0\n",
      "    amsgrad: False\n",
      "    betas: (0.9, 0.999)\n",
      "    eps: 1e-08\n",
      "    lr: 0.001\n",
      "    weight_decay: 0\n",
      ")\n",
      "----------------------------------------\n"
     ]
    },
    {
     "data": {
      "application/vnd.jupyter.widget-view+json": {
       "model_id": "7dda11e0e3114874a78eaf21692dbaff",
       "version_major": 2,
       "version_minor": 0
      },
      "text/plain": [
       "  0%|          | 0/2 [00:00<?, ?it/s]"
      ]
     },
     "metadata": {},
     "output_type": "display_data"
    },
    {
     "name": "stdout",
     "output_type": "stream",
     "text": [
      "    0.43/0.07 seconds for Training/Validation --- Tra acc = 0.0280, Val acc = 0.0226 --- Tra loss = 8.8226, Val loss = 11.4259, --- class acc = 3.030298330486403e-06, 0.04522106423974037\n"
     ]
    },
    {
     "data": {
      "application/vnd.jupyter.widget-view+json": {
       "model_id": "74364740241644d79abc838b219392cb",
       "version_major": 2,
       "version_minor": 0
      },
      "text/plain": [
       "  0%|          | 0/2 [00:00<?, ?it/s]"
      ]
     },
     "metadata": {},
     "output_type": "display_data"
    },
    {
     "name": "stdout",
     "output_type": "stream",
     "text": [
      "    0.37/0.05 seconds for Training/Validation --- Tra acc = 0.1448, Val acc = 0.0000 --- Tra loss = 0.8061, Val loss = 5.1145, --- class acc = 3.076918346778257e-06, 4.347816684457939e-06\n",
      "validation accuracy goes way down ... \n"
     ]
    }
   ],
   "source": [
    "epochs_traning, epochs_validation, best_model, loss_all, epochs_acc_class = aif_trainer.train(verbose=True, epoch_to_load=-1, save_model_epoch=True)"
   ]
  },
  {
   "cell_type": "code",
   "execution_count": 30,
   "metadata": {},
   "outputs": [
    {
     "data": {
      "text/plain": [
       "[<matplotlib.lines.Line2D at 0x21c7842ce88>]"
      ]
     },
     "execution_count": 30,
     "metadata": {},
     "output_type": "execute_result"
    },
    {
     "data": {
      "image/png": "[encoded data removed]",
      "text/plain": [
       "<Figure size 432x288 with 1 Axes>"
      ]
     },
     "metadata": {
      "needs_background": "light"
     },
     "output_type": "display_data"
    }
   ],
   "source": [
    "fig = plt.figure()\n",
    "plt.plot(loss_all[0:500,0], loss_all[0:500,1])"
   ]
  },
  {
   "cell_type": "code",
   "execution_count": 31,
   "metadata": {},
   "outputs": [
    {
     "name": "stdout",
     "output_type": "stream",
     "text": [
      "0.010955418460071087 15.461913108825684\n",
      "[2.94117217e-06 2.19078958e-02]\n"
     ]
    }
   ],
   "source": [
    "acc, loss, acc_class = aif_trainer.check_validation_test_accuracy(loader_for_val, best_model)\n",
    "print(acc, loss)\n",
    "print(acc_class)"
   ]
  },
  {
   "cell_type": "markdown",
   "metadata": {},
   "source": [
    "## Train with binary segmenation"
   ]
  },
  {
   "cell_type": "code",
   "execution_count": 32,
   "metadata": {},
   "outputs": [],
   "source": [
    "# data augmenation for random flipping\n",
    "transform = torchvision.transforms.Compose([RandomFlip1stDim(0.5), RandomFlip2ndDim(0.5)])"
   ]
  },
  {
   "cell_type": "code",
   "execution_count": 33,
   "metadata": {},
   "outputs": [],
   "source": [
    "perf_aif_dataset.transform = transform"
   ]
  },
  {
   "cell_type": "code",
   "execution_count": 34,
   "metadata": {},
   "outputs": [],
   "source": [
    "perf_aif_dataset.which_mask = 'lv'\n",
    "num_classes = 1\n",
    "p_thres = 0.5"
   ]
  },
  {
   "cell_type": "code",
   "execution_count": 35,
   "metadata": {},
   "outputs": [
    {
     "name": "stdout",
     "output_type": "stream",
     "text": [
      "lv\n",
      "(1, 64, 48)\n"
     ]
    },
    {
     "data": {
      "text/plain": [
       "<matplotlib.image.AxesImage at 0x21c02f91c88>"
      ]
     },
     "execution_count": 35,
     "metadata": {},
     "output_type": "execute_result"
    },
    {
     "data": {
      "image/png": "[encoded data removed]",
      "text/plain": [
       "<Figure size 432x288 with 1 Axes>"
      ]
     },
     "metadata": {
      "needs_background": "light"
     },
     "output_type": "display_data"
    }
   ],
   "source": [
    "print(perf_aif_dataset.which_mask)\n",
    "\n",
    "sample = perf_aif_dataset[1]\n",
    "\n",
    "print(sample[1].shape)\n",
    "\n",
    "plt.figure()\n",
    "plt.imshow(np.squeeze(sample[1]))"
   ]
  },
  {
   "cell_type": "code",
   "execution_count": 36,
   "metadata": {},
   "outputs": [
    {
     "ename": "StopIteration",
     "evalue": "",
     "output_type": "error",
     "traceback": [
      "\u001b[1;31m---------------------------------------------------------------------------\u001b[0m",
      "\u001b[1;31mStopIteration\u001b[0m                             Traceback (most recent call last)",
      "\u001b[1;32m<ipython-input-36-dccc8a7cccf4>\u001b[0m in \u001b[0;36m<module>\u001b[1;34m\u001b[0m\n\u001b[1;32m----> 1\u001b[1;33m \u001b[0mimages\u001b[0m\u001b[1;33m,\u001b[0m \u001b[0mmasks\u001b[0m\u001b[1;33m,\u001b[0m \u001b[0mnames\u001b[0m \u001b[1;33m=\u001b[0m \u001b[0miter_train\u001b[0m\u001b[1;33m.\u001b[0m\u001b[0mnext\u001b[0m\u001b[1;33m(\u001b[0m\u001b[1;33m)\u001b[0m\u001b[1;33m\u001b[0m\u001b[1;33m\u001b[0m\u001b[0m\n\u001b[0m\u001b[0;32m      2\u001b[0m \u001b[1;33m\u001b[0m\u001b[0m\n\u001b[0;32m      3\u001b[0m \u001b[0mB\u001b[0m\u001b[1;33m,\u001b[0m \u001b[0mC\u001b[0m\u001b[1;33m,\u001b[0m \u001b[0mRO\u001b[0m\u001b[1;33m,\u001b[0m \u001b[0mE1\u001b[0m \u001b[1;33m=\u001b[0m \u001b[0mimages\u001b[0m\u001b[1;33m.\u001b[0m\u001b[0mshape\u001b[0m\u001b[1;33m\u001b[0m\u001b[1;33m\u001b[0m\u001b[0m\n\u001b[0;32m      4\u001b[0m \u001b[1;33m\u001b[0m\u001b[0m\n\u001b[0;32m      5\u001b[0m \u001b[0mprint\u001b[0m\u001b[1;33m(\u001b[0m\u001b[0mimages\u001b[0m\u001b[1;33m.\u001b[0m\u001b[0mshape\u001b[0m\u001b[1;33m)\u001b[0m\u001b[1;33m\u001b[0m\u001b[1;33m\u001b[0m\u001b[0m\n",
      "\u001b[1;32m~\\Anaconda3\\envs\\qperf\\lib\\site-packages\\torch\\utils\\data\\dataloader.py\u001b[0m in \u001b[0;36m__next__\u001b[1;34m(self)\u001b[0m\n\u001b[0;32m    433\u001b[0m         \u001b[1;32mif\u001b[0m \u001b[0mself\u001b[0m\u001b[1;33m.\u001b[0m\u001b[0m_sampler_iter\u001b[0m \u001b[1;32mis\u001b[0m \u001b[1;32mNone\u001b[0m\u001b[1;33m:\u001b[0m\u001b[1;33m\u001b[0m\u001b[1;33m\u001b[0m\u001b[0m\n\u001b[0;32m    434\u001b[0m             \u001b[0mself\u001b[0m\u001b[1;33m.\u001b[0m\u001b[0m_reset\u001b[0m\u001b[1;33m(\u001b[0m\u001b[1;33m)\u001b[0m\u001b[1;33m\u001b[0m\u001b[1;33m\u001b[0m\u001b[0m\n\u001b[1;32m--> 435\u001b[1;33m         \u001b[0mdata\u001b[0m \u001b[1;33m=\u001b[0m \u001b[0mself\u001b[0m\u001b[1;33m.\u001b[0m\u001b[0m_next_data\u001b[0m\u001b[1;33m(\u001b[0m\u001b[1;33m)\u001b[0m\u001b[1;33m\u001b[0m\u001b[1;33m\u001b[0m\u001b[0m\n\u001b[0m\u001b[0;32m    436\u001b[0m         \u001b[0mself\u001b[0m\u001b[1;33m.\u001b[0m\u001b[0m_num_yielded\u001b[0m \u001b[1;33m+=\u001b[0m \u001b[1;36m1\u001b[0m\u001b[1;33m\u001b[0m\u001b[1;33m\u001b[0m\u001b[0m\n\u001b[0;32m    437\u001b[0m         \u001b[1;32mif\u001b[0m \u001b[0mself\u001b[0m\u001b[1;33m.\u001b[0m\u001b[0m_dataset_kind\u001b[0m \u001b[1;33m==\u001b[0m \u001b[0m_DatasetKind\u001b[0m\u001b[1;33m.\u001b[0m\u001b[0mIterable\u001b[0m \u001b[1;32mand\u001b[0m\u001b[0;31m \u001b[0m\u001b[0;31m\\\u001b[0m\u001b[1;33m\u001b[0m\u001b[1;33m\u001b[0m\u001b[0m\n",
      "\u001b[1;32m~\\Anaconda3\\envs\\qperf\\lib\\site-packages\\torch\\utils\\data\\dataloader.py\u001b[0m in \u001b[0;36m_next_data\u001b[1;34m(self)\u001b[0m\n\u001b[0;32m    472\u001b[0m \u001b[1;33m\u001b[0m\u001b[0m\n\u001b[0;32m    473\u001b[0m     \u001b[1;32mdef\u001b[0m \u001b[0m_next_data\u001b[0m\u001b[1;33m(\u001b[0m\u001b[0mself\u001b[0m\u001b[1;33m)\u001b[0m\u001b[1;33m:\u001b[0m\u001b[1;33m\u001b[0m\u001b[1;33m\u001b[0m\u001b[0m\n\u001b[1;32m--> 474\u001b[1;33m         \u001b[0mindex\u001b[0m \u001b[1;33m=\u001b[0m \u001b[0mself\u001b[0m\u001b[1;33m.\u001b[0m\u001b[0m_next_index\u001b[0m\u001b[1;33m(\u001b[0m\u001b[1;33m)\u001b[0m  \u001b[1;31m# may raise StopIteration\u001b[0m\u001b[1;33m\u001b[0m\u001b[1;33m\u001b[0m\u001b[0m\n\u001b[0m\u001b[0;32m    475\u001b[0m         \u001b[0mdata\u001b[0m \u001b[1;33m=\u001b[0m \u001b[0mself\u001b[0m\u001b[1;33m.\u001b[0m\u001b[0m_dataset_fetcher\u001b[0m\u001b[1;33m.\u001b[0m\u001b[0mfetch\u001b[0m\u001b[1;33m(\u001b[0m\u001b[0mindex\u001b[0m\u001b[1;33m)\u001b[0m  \u001b[1;31m# may raise StopIteration\u001b[0m\u001b[1;33m\u001b[0m\u001b[1;33m\u001b[0m\u001b[0m\n\u001b[0;32m    476\u001b[0m         \u001b[1;32mif\u001b[0m \u001b[0mself\u001b[0m\u001b[1;33m.\u001b[0m\u001b[0m_pin_memory\u001b[0m\u001b[1;33m:\u001b[0m\u001b[1;33m\u001b[0m\u001b[1;33m\u001b[0m\u001b[0m\n",
      "\u001b[1;32m~\\Anaconda3\\envs\\qperf\\lib\\site-packages\\torch\\utils\\data\\dataloader.py\u001b[0m in \u001b[0;36m_next_index\u001b[1;34m(self)\u001b[0m\n\u001b[0;32m    425\u001b[0m \u001b[1;33m\u001b[0m\u001b[0m\n\u001b[0;32m    426\u001b[0m     \u001b[1;32mdef\u001b[0m \u001b[0m_next_index\u001b[0m\u001b[1;33m(\u001b[0m\u001b[0mself\u001b[0m\u001b[1;33m)\u001b[0m\u001b[1;33m:\u001b[0m\u001b[1;33m\u001b[0m\u001b[1;33m\u001b[0m\u001b[0m\n\u001b[1;32m--> 427\u001b[1;33m         \u001b[1;32mreturn\u001b[0m \u001b[0mnext\u001b[0m\u001b[1;33m(\u001b[0m\u001b[0mself\u001b[0m\u001b[1;33m.\u001b[0m\u001b[0m_sampler_iter\u001b[0m\u001b[1;33m)\u001b[0m  \u001b[1;31m# may raise StopIteration\u001b[0m\u001b[1;33m\u001b[0m\u001b[1;33m\u001b[0m\u001b[0m\n\u001b[0m\u001b[0;32m    428\u001b[0m \u001b[1;33m\u001b[0m\u001b[0m\n\u001b[0;32m    429\u001b[0m     \u001b[1;32mdef\u001b[0m \u001b[0m_next_data\u001b[0m\u001b[1;33m(\u001b[0m\u001b[0mself\u001b[0m\u001b[1;33m)\u001b[0m\u001b[1;33m:\u001b[0m\u001b[1;33m\u001b[0m\u001b[1;33m\u001b[0m\u001b[0m\n",
      "\u001b[1;31mStopIteration\u001b[0m: "
     ]
    }
   ],
   "source": [
    "images, masks, names = iter_train.next()\n",
    "\n",
    "B, C, RO, E1 = images.shape\n",
    "\n",
    "print(images.shape)\n",
    "print(masks.shape)\n",
    "print(torch.max(images))\n",
    "print(torch.max(masks))\n",
    "\n",
    "a = images[:,32,:,:]\n",
    "a = torch.reshape(a, (B, 1, RO, E1))\n",
    "\n",
    "plt.figure(figsize=(16, 16))\n",
    "show(make_grid(a.double(), nrow=8, padding=2, normalize=False, scale_each=True))\n",
    "\n",
    "plt.figure(figsize=(16, 16))\n",
    "show(make_grid(masks.double(), nrow=8, padding=2, normalize=True, scale_each=False))\n",
    "\n",
    "X = images.type(torch.FloatTensor)\n",
    "y = masks.type(torch.FloatTensor)\n",
    "print(X.shape)\n",
    "print(y.shape)"
   ]
  },
  {
   "cell_type": "code",
   "execution_count": 37,
   "metadata": {},
   "outputs": [
    {
     "name": "stdout",
     "output_type": "stream",
     "text": [
      "(64, 64, 48)\n",
      "GadgetronResUnet : F0=64, inplanes=96\n",
      "------------------------------------------------------------\n",
      "    GadgetronResUnetInputBlock : input size (64, 64, 48), output size (96, 64, 48) --> (96, 64, 48)\n",
      "------------------------------------------------------------\n",
      "    GadgetronResUnet, down layer 0:\n",
      "        GadgetronResUnet, down layer (64, 48) -> (32, 24)\n",
      "        GadgetronResUnetBasicBlock : input size (96, 32, 24), output size (128, 32, 24) --> (128, 32, 24)\n",
      "        GadgetronResUnetBasicBlock : input size (128, 32, 24), output size (128, 32, 24) --> (128, 32, 24)\n",
      "        GadgetronResUnetBasicBlock : input size (128, 32, 24), output size (128, 32, 24) --> (128, 32, 24)\n",
      "        GadgetronResUnetBasicBlock : input size (128, 32, 24), output size (128, 32, 24) --> (128, 32, 24)\n",
      "    GadgetronResUnet, down layer 1:\n",
      "        GadgetronResUnet, down layer (32, 24) -> (16, 12)\n",
      "        GadgetronResUnetBasicBlock : input size (128, 16, 12), output size (128, 16, 12) --> (128, 16, 12)\n",
      "        GadgetronResUnetBasicBlock : input size (128, 16, 12), output size (128, 16, 12) --> (128, 16, 12)\n",
      "        GadgetronResUnetBasicBlock : input size (128, 16, 12), output size (128, 16, 12) --> (128, 16, 12)\n",
      "        GadgetronResUnetBasicBlock : input size (128, 16, 12), output size (128, 16, 12) --> (128, 16, 12)\n",
      "------------------------------------------------------------\n",
      "    GadgetronResUnet, bridge layer (128, 16, 12) --> (128, 16, 12)\n",
      "        GadgetronResUnet, down layer (16, 12) -> (8, 6)\n",
      "        GadgetronResUnetBasicBlock : input size (128, 8, 6), output size (128, 8, 6) --> (128, 8, 6)\n",
      "        GadgetronResUnetBasicBlock : input size (128, 8, 6), output size (128, 8, 6) --> (128, 8, 6)\n",
      "        GadgetronResUnetBasicBlock : input size (128, 8, 6), output size (128, 8, 6) --> (128, 8, 6)\n",
      "        GadgetronResUnetBasicBlock : input size (128, 8, 6), output size (128, 8, 6) --> (128, 8, 6)\n",
      "------------------------------------------------------------\n",
      "    GadgetronResUnet, up layer 0:\n",
      "        GadgetronResUnet_UpSample : input size (256, 8, 6), upsampled size (256, 16, 12)\n",
      "        GadgetronResUnetBasicBlock : input size (256, 16, 12), output size (128, 16, 12) --> (128, 16, 12)\n",
      "        GadgetronResUnetBasicBlock : input size (128, 16, 12), output size (128, 16, 12) --> (128, 16, 12)\n",
      "        GadgetronResUnetBasicBlock : input size (128, 16, 12), output size (128, 16, 12) --> (128, 16, 12)\n",
      "        GadgetronResUnetBasicBlock : input size (128, 16, 12), output size (128, 16, 12) --> (128, 16, 12)\n",
      "    GadgetronResUnet, up layer 1:\n",
      "        GadgetronResUnet_UpSample : input size (256, 16, 12), upsampled size (256, 32, 24)\n",
      "        GadgetronResUnetBasicBlock : input size (256, 32, 24), output size (96, 32, 24) --> (96, 32, 24)\n",
      "        GadgetronResUnetBasicBlock : input size (96, 32, 24), output size (96, 32, 24) --> (96, 32, 24)\n",
      "        GadgetronResUnetBasicBlock : input size (96, 32, 24), output size (96, 32, 24) --> (96, 32, 24)\n",
      "        GadgetronResUnetBasicBlock : input size (96, 32, 24), output size (96, 32, 24) --> (96, 32, 24)\n",
      "    GadgetronResUnet, up layer 2:\n",
      "        GadgetronResUnet_UpSample : input size (192, 32, 24), upsampled size (192, 64, 48)\n",
      "        GadgetronResUnetBasicBlock : input size (192, 64, 48), output size (96, 64, 48) --> (96, 64, 48)\n",
      "        GadgetronResUnetBasicBlock : input size (96, 64, 48), output size (96, 64, 48) --> (96, 64, 48)\n",
      "        GadgetronResUnetBasicBlock : input size (96, 64, 48), output size (96, 64, 48) --> (96, 64, 48)\n",
      "        GadgetronResUnetBasicBlock : input size (96, 64, 48), output size (96, 64, 48) --> (96, 64, 48)\n",
      "------------------------------------------------------------\n",
      "Output layer (96, 64, 48) --> (1, 64, 48)\n",
      "------------------------------------------------------------\n"
     ]
    }
   ],
   "source": [
    "num_epochs = 50\n",
    "print_every = 100000\n",
    "\n",
    "inplanes = 96\n",
    "layers=[4, 4]\n",
    "layers_planes=[128, 128]\n",
    "\n",
    "print(perf_aif_dataset.aif[0].shape)\n",
    "C, H, W = perf_aif_dataset.aif[0].shape\n",
    "\n",
    "model = models.GadgetronResUnet18(F0=C, \n",
    "                          inplanes=inplanes, \n",
    "                          layers=layers, \n",
    "                          layers_planes=layers_planes, \n",
    "                          use_dropout=False, \n",
    "                          p=0.5, \n",
    "                          H=H, W=W, C=num_classes,\n",
    "                          verbose=True)\n",
    "\n",
    "if torch.cuda.device_count() > 1:\n",
    "    model = nn.DataParallel(model)\n",
    "    print(\"model on multiple GPU ... \")\n",
    "\n",
    "patience = 10\n",
    "factor = 0.5\n",
    "cooldown = 3\n",
    "min_lr = 1e-7\n",
    "\n",
    "weight_decay=0\n",
    "learning_rate = 1e-3\n",
    "\n",
    "optimizer = optim.Adam(model.parameters(), lr=learning_rate, betas=(0.9, 0.999), eps=1e-08, weight_decay=weight_decay, amsgrad=False)\n",
    "\n",
    "# optimizer = optim.SGD(model.parameters(), lr=learning_rate, momentum=0.9, weight_decay=weight_decay, nesterov=True)\n",
    "\n",
    "scheduler = torch.optim.lr_scheduler.ReduceLROnPlateau(optimizer, 'min', patience=patience, cooldown=cooldown, min_lr=min_lr, verbose=True)\n",
    "\n",
    "criterion = training.LossBinary(jaccard_weight=0.5)\n",
    "# criterion = training.LossMulti(class_weights=class_weights, jaccard_weight=0.5)\n",
    "\n",
    "log_dir = 'aif_training/ResUnet' + '_lr_' + str(learning_rate) + '_epochs_' + str(num_epochs)\n",
    "writer = SummaryWriter(log_dir)"
   ]
  },
  {
   "cell_type": "code",
   "execution_count": 38,
   "metadata": {},
   "outputs": [],
   "source": [
    "aif_trainer = training.GadgetronTwoClassSeg_PerfAIF(model, \n",
    "                                   optimizer, \n",
    "                                   criterion, \n",
    "                                   loader_for_train, \n",
    "                                   loader_for_val, \n",
    "                                   p_thres=p_thres, \n",
    "                                   scheduler=scheduler, \n",
    "                                   epochs=num_epochs, \n",
    "                                   device=device, \n",
    "                                   x_dtype=torch.float32, \n",
    "                                   y_dtype=torch.float32, \n",
    "                                   early_stopping_thres = 100,                              \n",
    "                                   print_every=print_every, \n",
    "                                   small_data_mode = False, \n",
    "                                   writer=writer, \n",
    "                                   model_folder=\"aif_training/\")"
   ]
  },
  {
   "cell_type": "code",
   "execution_count": 39,
   "metadata": {
    "scrolled": true
   },
   "outputs": [
    {
     "name": "stdout",
     "output_type": "stream",
     "text": [
      "50\n",
      "Start training ... \n",
      "Adam (\n",
      "Parameter Group 0\n",
      "    amsgrad: False\n",
      "    betas: (0.9, 0.999)\n",
      "    eps: 1e-08\n",
      "    lr: 0.001\n",
      "    weight_decay: 0\n",
      ")\n",
      "----------------------------------------\n"
     ]
    },
    {
     "data": {
      "application/vnd.jupyter.widget-view+json": {
       "model_id": "571b7c0decb842aa8e2c0a2e8dc3fb5e",
       "version_major": 2,
       "version_minor": 0
      },
      "text/plain": [
       "  0%|          | 0/2 [00:00<?, ?it/s]"
      ]
     },
     "metadata": {},
     "output_type": "display_data"
    },
    {
     "name": "stdout",
     "output_type": "stream",
     "text": [
      "    0.59/0.08 seconds for Training/Validation --- Tra acc = 0.0215, Val acc = 0.0000 --- Tra loss = 13.0164, Val loss = 32.0950, --- class acc = 2.886002334889781e-07\n"
     ]
    },
    {
     "data": {
      "application/vnd.jupyter.widget-view+json": {
       "model_id": "f0f648991dde476eb282134d77ed67d9",
       "version_major": 2,
       "version_minor": 0
      },
      "text/plain": [
       "  0%|          | 0/2 [00:00<?, ?it/s]"
      ]
     },
     "metadata": {},
     "output_type": "display_data"
    },
    {
     "name": "stdout",
     "output_type": "stream",
     "text": [
      "    0.61/0.08 seconds for Training/Validation --- Tra acc = 0.2614, Val acc = 0.0000 --- Tra loss = 1.2310, Val loss = 20.3905, --- class acc = 3.1249951462086756e-06\n"
     ]
    },
    {
     "data": {
      "application/vnd.jupyter.widget-view+json": {
       "model_id": "85e31fd65cc34f3bb4211822c71813d2",
       "version_major": 2,
       "version_minor": 0
      },
      "text/plain": [
       "  0%|          | 0/2 [00:00<?, ?it/s]"
      ]
     },
     "metadata": {},
     "output_type": "display_data"
    },
    {
     "name": "stdout",
     "output_type": "stream",
     "text": [
      "    0.57/0.07 seconds for Training/Validation --- Tra acc = 0.2917, Val acc = 0.0000 --- Tra loss = 1.1980, Val loss = 20.3905, --- class acc = 3.076918346778257e-06\n"
     ]
    },
    {
     "data": {
      "application/vnd.jupyter.widget-view+json": {
       "model_id": "bb9923ee972f491d97317de48e929fd8",
       "version_major": 2,
       "version_minor": 0
      },
      "text/plain": [
       "  0%|          | 0/2 [00:00<?, ?it/s]"
      ]
     },
     "metadata": {},
     "output_type": "display_data"
    },
    {
     "name": "stdout",
     "output_type": "stream",
     "text": [
      "    0.61/0.10 seconds for Training/Validation --- Tra acc = 0.6075, Val acc = 0.0000 --- Tra loss = 1.0990, Val loss = 20.3905, --- class acc = 3.076918346778257e-06\n"
     ]
    },
    {
     "data": {
      "application/vnd.jupyter.widget-view+json": {
       "model_id": "e908ecc767cb49cbb7cb01e6b349bfc6",
       "version_major": 2,
       "version_minor": 0
      },
      "text/plain": [
       "  0%|          | 0/2 [00:00<?, ?it/s]"
      ]
     },
     "metadata": {},
     "output_type": "display_data"
    },
    {
     "name": "stdout",
     "output_type": "stream",
     "text": [
      "    0.64/0.12 seconds for Training/Validation --- Tra acc = 0.6157, Val acc = 0.0886 --- Tra loss = 1.1251, Val loss = 14.8790, --- class acc = 0.0886077955365181\n"
     ]
    },
    {
     "data": {
      "application/vnd.jupyter.widget-view+json": {
       "model_id": "395270c2f12a446597665860b8492a3c",
       "version_major": 2,
       "version_minor": 0
      },
      "text/plain": [
       "  0%|          | 0/2 [00:00<?, ?it/s]"
      ]
     },
     "metadata": {},
     "output_type": "display_data"
    },
    {
     "name": "stdout",
     "output_type": "stream",
     "text": [
      "    0.67/0.10 seconds for Training/Validation --- Tra acc = 0.6705, Val acc = 0.0960 --- Tra loss = 1.1321, Val loss = 13.3621, --- class acc = 0.0960189551115036\n"
     ]
    },
    {
     "data": {
      "application/vnd.jupyter.widget-view+json": {
       "model_id": "7da3282b75ac4f03a516ef7e0a72543e",
       "version_major": 2,
       "version_minor": 0
      },
      "text/plain": [
       "  0%|          | 0/2 [00:00<?, ?it/s]"
      ]
     },
     "metadata": {},
     "output_type": "display_data"
    },
    {
     "name": "stdout",
     "output_type": "stream",
     "text": [
      "    0.56/0.07 seconds for Training/Validation --- Tra acc = 0.3466, Val acc = 0.1110 --- Tra loss = 1.2686, Val loss = 17.5493, --- class acc = 0.11101490259170532\n"
     ]
    },
    {
     "data": {
      "application/vnd.jupyter.widget-view+json": {
       "model_id": "04b7ece5375c46059fa914f5fe5f6467",
       "version_major": 2,
       "version_minor": 0
      },
      "text/plain": [
       "  0%|          | 0/2 [00:00<?, ?it/s]"
      ]
     },
     "metadata": {},
     "output_type": "display_data"
    },
    {
     "name": "stdout",
     "output_type": "stream",
     "text": [
      "    0.52/0.08 seconds for Training/Validation --- Tra acc = 0.7777, Val acc = 0.0734 --- Tra loss = 0.4687, Val loss = 13.7554, --- class acc = 0.07337300479412079\n"
     ]
    },
    {
     "data": {
      "application/vnd.jupyter.widget-view+json": {
       "model_id": "471c0e34acbe4c93b9aed9838f4ff9c6",
       "version_major": 2,
       "version_minor": 0
      },
      "text/plain": [
       "  0%|          | 0/2 [00:00<?, ?it/s]"
      ]
     },
     "metadata": {},
     "output_type": "display_data"
    },
    {
     "name": "stdout",
     "output_type": "stream",
     "text": [
      "    0.53/0.10 seconds for Training/Validation --- Tra acc = 0.8076, Val acc = 0.0000 --- Tra loss = 0.4410, Val loss = 28.6724, --- class acc = 3.7878777447986067e-07\n",
      "validation accuracy goes way down ... \n"
     ]
    }
   ],
   "source": [
    "epochs_traning, epochs_validation, best_model, loss_all, epochs_acc_class = aif_trainer.train(verbose=True, epoch_to_load=-1, save_model_epoch=True)"
   ]
  },
  {
   "cell_type": "markdown",
   "metadata": {},
   "source": [
    "## Saving the model"
   ]
  },
  {
   "cell_type": "code",
   "execution_count": 40,
   "metadata": {},
   "outputs": [
    {
     "name": "stdout",
     "output_type": "stream",
     "text": [
      "GadgetronResUnet(\n",
      "  (input_layer): GadgetronResUnetInputBlock(\n",
      "    (conv1): Conv2d(64, 96, kernel_size=(3, 3), stride=(1, 1), padding=(1, 1), bias=False)\n",
      "    (bn1): BatchNorm2d(96, eps=1e-05, momentum=0.1, affine=True, track_running_stats=True)\n",
      "    (relu): ReLU(inplace=True)\n",
      "    (conv2): Conv2d(96, 96, kernel_size=(3, 3), stride=(1, 1), padding=(1, 1), bias=False)\n",
      "  )\n",
      "  (down_layers): Sequential(\n",
      "    (Down layer 0): Sequential(\n",
      "      (downsample): MaxPool2d(kernel_size=2, stride=2, padding=0, dilation=1, ceil_mode=False)\n",
      "      (ResBlock0): GadgetronResUnetBasicBlock(\n",
      "        (bn1): BatchNorm2d(96, eps=1e-05, momentum=0.1, affine=True, track_running_stats=True)\n",
      "        (relu1): ReLU(inplace=True)\n",
      "        (conv1): Conv2d(96, 128, kernel_size=(3, 3), stride=(1, 1), padding=(1, 1), bias=False)\n",
      "        (bn2): BatchNorm2d(128, eps=1e-05, momentum=0.1, affine=True, track_running_stats=True)\n",
      "        (relu2): ReLU(inplace=True)\n",
      "        (conv2): Conv2d(128, 128, kernel_size=(3, 3), stride=(1, 1), padding=(1, 1), bias=False)\n",
      "        (dp): Dropout2d(p=0.5, inplace=False)\n",
      "      )\n",
      "      (ResBlock1): GadgetronResUnetBasicBlock(\n",
      "        (bn1): BatchNorm2d(128, eps=1e-05, momentum=0.1, affine=True, track_running_stats=True)\n",
      "        (relu1): ReLU(inplace=True)\n",
      "        (conv1): Conv2d(128, 128, kernel_size=(3, 3), stride=(1, 1), padding=(1, 1), bias=False)\n",
      "        (bn2): BatchNorm2d(128, eps=1e-05, momentum=0.1, affine=True, track_running_stats=True)\n",
      "        (relu2): ReLU(inplace=True)\n",
      "        (conv2): Conv2d(128, 128, kernel_size=(3, 3), stride=(1, 1), padding=(1, 1), bias=False)\n",
      "        (dp): Dropout2d(p=0.5, inplace=False)\n",
      "      )\n",
      "      (ResBlock2): GadgetronResUnetBasicBlock(\n",
      "        (bn1): BatchNorm2d(128, eps=1e-05, momentum=0.1, affine=True, track_running_stats=True)\n",
      "        (relu1): ReLU(inplace=True)\n",
      "        (conv1): Conv2d(128, 128, kernel_size=(3, 3), stride=(1, 1), padding=(1, 1), bias=False)\n",
      "        (bn2): BatchNorm2d(128, eps=1e-05, momentum=0.1, affine=True, track_running_stats=True)\n",
      "        (relu2): ReLU(inplace=True)\n",
      "        (conv2): Conv2d(128, 128, kernel_size=(3, 3), stride=(1, 1), padding=(1, 1), bias=False)\n",
      "        (dp): Dropout2d(p=0.5, inplace=False)\n",
      "      )\n",
      "      (ResBlock3): GadgetronResUnetBasicBlock(\n",
      "        (bn1): BatchNorm2d(128, eps=1e-05, momentum=0.1, affine=True, track_running_stats=True)\n",
      "        (relu1): ReLU(inplace=True)\n",
      "        (conv1): Conv2d(128, 128, kernel_size=(3, 3), stride=(1, 1), padding=(1, 1), bias=False)\n",
      "        (bn2): BatchNorm2d(128, eps=1e-05, momentum=0.1, affine=True, track_running_stats=True)\n",
      "        (relu2): ReLU(inplace=True)\n",
      "        (conv2): Conv2d(128, 128, kernel_size=(3, 3), stride=(1, 1), padding=(1, 1), bias=False)\n",
      "        (dp): Dropout2d(p=0.5, inplace=False)\n",
      "      )\n",
      "    )\n",
      "    (Down layer 1): Sequential(\n",
      "      (downsample): MaxPool2d(kernel_size=2, stride=2, padding=0, dilation=1, ceil_mode=False)\n",
      "      (ResBlock0): GadgetronResUnetBasicBlock(\n",
      "        (bn1): BatchNorm2d(128, eps=1e-05, momentum=0.1, affine=True, track_running_stats=True)\n",
      "        (relu1): ReLU(inplace=True)\n",
      "        (conv1): Conv2d(128, 128, kernel_size=(3, 3), stride=(1, 1), padding=(1, 1), bias=False)\n",
      "        (bn2): BatchNorm2d(128, eps=1e-05, momentum=0.1, affine=True, track_running_stats=True)\n",
      "        (relu2): ReLU(inplace=True)\n",
      "        (conv2): Conv2d(128, 128, kernel_size=(3, 3), stride=(1, 1), padding=(1, 1), bias=False)\n",
      "        (dp): Dropout2d(p=0.5, inplace=False)\n",
      "      )\n",
      "      (ResBlock1): GadgetronResUnetBasicBlock(\n",
      "        (bn1): BatchNorm2d(128, eps=1e-05, momentum=0.1, affine=True, track_running_stats=True)\n",
      "        (relu1): ReLU(inplace=True)\n",
      "        (conv1): Conv2d(128, 128, kernel_size=(3, 3), stride=(1, 1), padding=(1, 1), bias=False)\n",
      "        (bn2): BatchNorm2d(128, eps=1e-05, momentum=0.1, affine=True, track_running_stats=True)\n",
      "        (relu2): ReLU(inplace=True)\n",
      "        (conv2): Conv2d(128, 128, kernel_size=(3, 3), stride=(1, 1), padding=(1, 1), bias=False)\n",
      "        (dp): Dropout2d(p=0.5, inplace=False)\n",
      "      )\n",
      "      (ResBlock2): GadgetronResUnetBasicBlock(\n",
      "        (bn1): BatchNorm2d(128, eps=1e-05, momentum=0.1, affine=True, track_running_stats=True)\n",
      "        (relu1): ReLU(inplace=True)\n",
      "        (conv1): Conv2d(128, 128, kernel_size=(3, 3), stride=(1, 1), padding=(1, 1), bias=False)\n",
      "        (bn2): BatchNorm2d(128, eps=1e-05, momentum=0.1, affine=True, track_running_stats=True)\n",
      "        (relu2): ReLU(inplace=True)\n",
      "        (conv2): Conv2d(128, 128, kernel_size=(3, 3), stride=(1, 1), padding=(1, 1), bias=False)\n",
      "        (dp): Dropout2d(p=0.5, inplace=False)\n",
      "      )\n",
      "      (ResBlock3): GadgetronResUnetBasicBlock(\n",
      "        (bn1): BatchNorm2d(128, eps=1e-05, momentum=0.1, affine=True, track_running_stats=True)\n",
      "        (relu1): ReLU(inplace=True)\n",
      "        (conv1): Conv2d(128, 128, kernel_size=(3, 3), stride=(1, 1), padding=(1, 1), bias=False)\n",
      "        (bn2): BatchNorm2d(128, eps=1e-05, momentum=0.1, affine=True, track_running_stats=True)\n",
      "        (relu2): ReLU(inplace=True)\n",
      "        (conv2): Conv2d(128, 128, kernel_size=(3, 3), stride=(1, 1), padding=(1, 1), bias=False)\n",
      "        (dp): Dropout2d(p=0.5, inplace=False)\n",
      "      )\n",
      "    )\n",
      "  )\n",
      "  (bridge_layer): Sequential(\n",
      "    (downsample): MaxPool2d(kernel_size=2, stride=2, padding=0, dilation=1, ceil_mode=False)\n",
      "    (ResBlock0): GadgetronResUnetBasicBlock(\n",
      "      (bn1): BatchNorm2d(128, eps=1e-05, momentum=0.1, affine=True, track_running_stats=True)\n",
      "      (relu1): ReLU(inplace=True)\n",
      "      (conv1): Conv2d(128, 128, kernel_size=(3, 3), stride=(1, 1), padding=(1, 1), bias=False)\n",
      "      (bn2): BatchNorm2d(128, eps=1e-05, momentum=0.1, affine=True, track_running_stats=True)\n",
      "      (relu2): ReLU(inplace=True)\n",
      "      (conv2): Conv2d(128, 128, kernel_size=(3, 3), stride=(1, 1), padding=(1, 1), bias=False)\n",
      "      (dp): Dropout2d(p=0.5, inplace=False)\n",
      "    )\n",
      "    (ResBlock1): GadgetronResUnetBasicBlock(\n",
      "      (bn1): BatchNorm2d(128, eps=1e-05, momentum=0.1, affine=True, track_running_stats=True)\n",
      "      (relu1): ReLU(inplace=True)\n",
      "      (conv1): Conv2d(128, 128, kernel_size=(3, 3), stride=(1, 1), padding=(1, 1), bias=False)\n",
      "      (bn2): BatchNorm2d(128, eps=1e-05, momentum=0.1, affine=True, track_running_stats=True)\n",
      "      (relu2): ReLU(inplace=True)\n",
      "      (conv2): Conv2d(128, 128, kernel_size=(3, 3), stride=(1, 1), padding=(1, 1), bias=False)\n",
      "      (dp): Dropout2d(p=0.5, inplace=False)\n",
      "    )\n",
      "    (ResBlock2): GadgetronResUnetBasicBlock(\n",
      "      (bn1): BatchNorm2d(128, eps=1e-05, momentum=0.1, affine=True, track_running_stats=True)\n",
      "      (relu1): ReLU(inplace=True)\n",
      "      (conv1): Conv2d(128, 128, kernel_size=(3, 3), stride=(1, 1), padding=(1, 1), bias=False)\n",
      "      (bn2): BatchNorm2d(128, eps=1e-05, momentum=0.1, affine=True, track_running_stats=True)\n",
      "      (relu2): ReLU(inplace=True)\n",
      "      (conv2): Conv2d(128, 128, kernel_size=(3, 3), stride=(1, 1), padding=(1, 1), bias=False)\n",
      "      (dp): Dropout2d(p=0.5, inplace=False)\n",
      "    )\n",
      "    (ResBlock3): GadgetronResUnetBasicBlock(\n",
      "      (bn1): BatchNorm2d(128, eps=1e-05, momentum=0.1, affine=True, track_running_stats=True)\n",
      "      (relu1): ReLU(inplace=True)\n",
      "      (conv1): Conv2d(128, 128, kernel_size=(3, 3), stride=(1, 1), padding=(1, 1), bias=False)\n",
      "      (bn2): BatchNorm2d(128, eps=1e-05, momentum=0.1, affine=True, track_running_stats=True)\n",
      "      (relu2): ReLU(inplace=True)\n",
      "      (conv2): Conv2d(128, 128, kernel_size=(3, 3), stride=(1, 1), padding=(1, 1), bias=False)\n",
      "      (dp): Dropout2d(p=0.5, inplace=False)\n",
      "    )\n",
      "  )\n",
      "  (up_layers): Sequential(\n",
      "    (Up layer 0): GadgetronResUnet_UpSample(\n",
      "      (blocks): Sequential(\n",
      "        (upsample 0): GadgetronResUnetBasicBlock(\n",
      "          (bn1): BatchNorm2d(256, eps=1e-05, momentum=0.1, affine=True, track_running_stats=True)\n",
      "          (relu1): ReLU(inplace=True)\n",
      "          (conv1): Conv2d(256, 128, kernel_size=(3, 3), stride=(1, 1), padding=(1, 1), bias=False)\n",
      "          (bn2): BatchNorm2d(128, eps=1e-05, momentum=0.1, affine=True, track_running_stats=True)\n",
      "          (relu2): ReLU(inplace=True)\n",
      "          (conv2): Conv2d(128, 128, kernel_size=(3, 3), stride=(1, 1), padding=(1, 1), bias=False)\n",
      "          (dp): Dropout2d(p=0.5, inplace=False)\n",
      "        )\n",
      "        (upsample 1): GadgetronResUnetBasicBlock(\n",
      "          (bn1): BatchNorm2d(128, eps=1e-05, momentum=0.1, affine=True, track_running_stats=True)\n",
      "          (relu1): ReLU(inplace=True)\n",
      "          (conv1): Conv2d(128, 128, kernel_size=(3, 3), stride=(1, 1), padding=(1, 1), bias=False)\n",
      "          (bn2): BatchNorm2d(128, eps=1e-05, momentum=0.1, affine=True, track_running_stats=True)\n",
      "          (relu2): ReLU(inplace=True)\n",
      "          (conv2): Conv2d(128, 128, kernel_size=(3, 3), stride=(1, 1), padding=(1, 1), bias=False)\n",
      "          (dp): Dropout2d(p=0.5, inplace=False)\n",
      "        )\n",
      "        (upsample 2): GadgetronResUnetBasicBlock(\n",
      "          (bn1): BatchNorm2d(128, eps=1e-05, momentum=0.1, affine=True, track_running_stats=True)\n",
      "          (relu1): ReLU(inplace=True)\n",
      "          (conv1): Conv2d(128, 128, kernel_size=(3, 3), stride=(1, 1), padding=(1, 1), bias=False)\n",
      "          (bn2): BatchNorm2d(128, eps=1e-05, momentum=0.1, affine=True, track_running_stats=True)\n",
      "          (relu2): ReLU(inplace=True)\n",
      "          (conv2): Conv2d(128, 128, kernel_size=(3, 3), stride=(1, 1), padding=(1, 1), bias=False)\n",
      "          (dp): Dropout2d(p=0.5, inplace=False)\n",
      "        )\n",
      "        (upsample 3): GadgetronResUnetBasicBlock(\n",
      "          (bn1): BatchNorm2d(128, eps=1e-05, momentum=0.1, affine=True, track_running_stats=True)\n",
      "          (relu1): ReLU(inplace=True)\n",
      "          (conv1): Conv2d(128, 128, kernel_size=(3, 3), stride=(1, 1), padding=(1, 1), bias=False)\n",
      "          (bn2): BatchNorm2d(128, eps=1e-05, momentum=0.1, affine=True, track_running_stats=True)\n",
      "          (relu2): ReLU(inplace=True)\n",
      "          (conv2): Conv2d(128, 128, kernel_size=(3, 3), stride=(1, 1), padding=(1, 1), bias=False)\n",
      "          (dp): Dropout2d(p=0.5, inplace=False)\n",
      "        )\n",
      "      )\n",
      "    )\n",
      "    (Up layer 1): GadgetronResUnet_UpSample(\n",
      "      (blocks): Sequential(\n",
      "        (upsample 0): GadgetronResUnetBasicBlock(\n",
      "          (bn1): BatchNorm2d(256, eps=1e-05, momentum=0.1, affine=True, track_running_stats=True)\n",
      "          (relu1): ReLU(inplace=True)\n",
      "          (conv1): Conv2d(256, 96, kernel_size=(3, 3), stride=(1, 1), padding=(1, 1), bias=False)\n",
      "          (bn2): BatchNorm2d(96, eps=1e-05, momentum=0.1, affine=True, track_running_stats=True)\n",
      "          (relu2): ReLU(inplace=True)\n",
      "          (conv2): Conv2d(96, 96, kernel_size=(3, 3), stride=(1, 1), padding=(1, 1), bias=False)\n",
      "          (dp): Dropout2d(p=0.5, inplace=False)\n",
      "        )\n",
      "        (upsample 1): GadgetronResUnetBasicBlock(\n",
      "          (bn1): BatchNorm2d(96, eps=1e-05, momentum=0.1, affine=True, track_running_stats=True)\n",
      "          (relu1): ReLU(inplace=True)\n",
      "          (conv1): Conv2d(96, 96, kernel_size=(3, 3), stride=(1, 1), padding=(1, 1), bias=False)\n",
      "          (bn2): BatchNorm2d(96, eps=1e-05, momentum=0.1, affine=True, track_running_stats=True)\n",
      "          (relu2): ReLU(inplace=True)\n",
      "          (conv2): Conv2d(96, 96, kernel_size=(3, 3), stride=(1, 1), padding=(1, 1), bias=False)\n",
      "          (dp): Dropout2d(p=0.5, inplace=False)\n",
      "        )\n",
      "        (upsample 2): GadgetronResUnetBasicBlock(\n",
      "          (bn1): BatchNorm2d(96, eps=1e-05, momentum=0.1, affine=True, track_running_stats=True)\n",
      "          (relu1): ReLU(inplace=True)\n",
      "          (conv1): Conv2d(96, 96, kernel_size=(3, 3), stride=(1, 1), padding=(1, 1), bias=False)\n",
      "          (bn2): BatchNorm2d(96, eps=1e-05, momentum=0.1, affine=True, track_running_stats=True)\n",
      "          (relu2): ReLU(inplace=True)\n",
      "          (conv2): Conv2d(96, 96, kernel_size=(3, 3), stride=(1, 1), padding=(1, 1), bias=False)\n",
      "          (dp): Dropout2d(p=0.5, inplace=False)\n",
      "        )\n",
      "        (upsample 3): GadgetronResUnetBasicBlock(\n",
      "          (bn1): BatchNorm2d(96, eps=1e-05, momentum=0.1, affine=True, track_running_stats=True)\n",
      "          (relu1): ReLU(inplace=True)\n",
      "          (conv1): Conv2d(96, 96, kernel_size=(3, 3), stride=(1, 1), padding=(1, 1), bias=False)\n",
      "          (bn2): BatchNorm2d(96, eps=1e-05, momentum=0.1, affine=True, track_running_stats=True)\n",
      "          (relu2): ReLU(inplace=True)\n",
      "          (conv2): Conv2d(96, 96, kernel_size=(3, 3), stride=(1, 1), padding=(1, 1), bias=False)\n",
      "          (dp): Dropout2d(p=0.5, inplace=False)\n",
      "        )\n",
      "      )\n",
      "    )\n",
      "    (Up layer 2): GadgetronResUnet_UpSample(\n",
      "      (blocks): Sequential(\n",
      "        (upsample 0): GadgetronResUnetBasicBlock(\n",
      "          (bn1): BatchNorm2d(192, eps=1e-05, momentum=0.1, affine=True, track_running_stats=True)\n",
      "          (relu1): ReLU(inplace=True)\n",
      "          (conv1): Conv2d(192, 96, kernel_size=(3, 3), stride=(1, 1), padding=(1, 1), bias=False)\n",
      "          (bn2): BatchNorm2d(96, eps=1e-05, momentum=0.1, affine=True, track_running_stats=True)\n",
      "          (relu2): ReLU(inplace=True)\n",
      "          (conv2): Conv2d(96, 96, kernel_size=(3, 3), stride=(1, 1), padding=(1, 1), bias=False)\n",
      "          (dp): Dropout2d(p=0.5, inplace=False)\n",
      "        )\n",
      "        (upsample 1): GadgetronResUnetBasicBlock(\n",
      "          (bn1): BatchNorm2d(96, eps=1e-05, momentum=0.1, affine=True, track_running_stats=True)\n",
      "          (relu1): ReLU(inplace=True)\n",
      "          (conv1): Conv2d(96, 96, kernel_size=(3, 3), stride=(1, 1), padding=(1, 1), bias=False)\n",
      "          (bn2): BatchNorm2d(96, eps=1e-05, momentum=0.1, affine=True, track_running_stats=True)\n",
      "          (relu2): ReLU(inplace=True)\n",
      "          (conv2): Conv2d(96, 96, kernel_size=(3, 3), stride=(1, 1), padding=(1, 1), bias=False)\n",
      "          (dp): Dropout2d(p=0.5, inplace=False)\n",
      "        )\n",
      "        (upsample 2): GadgetronResUnetBasicBlock(\n",
      "          (bn1): BatchNorm2d(96, eps=1e-05, momentum=0.1, affine=True, track_running_stats=True)\n",
      "          (relu1): ReLU(inplace=True)\n",
      "          (conv1): Conv2d(96, 96, kernel_size=(3, 3), stride=(1, 1), padding=(1, 1), bias=False)\n",
      "          (bn2): BatchNorm2d(96, eps=1e-05, momentum=0.1, affine=True, track_running_stats=True)\n",
      "          (relu2): ReLU(inplace=True)\n",
      "          (conv2): Conv2d(96, 96, kernel_size=(3, 3), stride=(1, 1), padding=(1, 1), bias=False)\n",
      "          (dp): Dropout2d(p=0.5, inplace=False)\n",
      "        )\n",
      "        (upsample 3): GadgetronResUnetBasicBlock(\n",
      "          (bn1): BatchNorm2d(96, eps=1e-05, momentum=0.1, affine=True, track_running_stats=True)\n",
      "          (relu1): ReLU(inplace=True)\n",
      "          (conv1): Conv2d(96, 96, kernel_size=(3, 3), stride=(1, 1), padding=(1, 1), bias=False)\n",
      "          (bn2): BatchNorm2d(96, eps=1e-05, momentum=0.1, affine=True, track_running_stats=True)\n",
      "          (relu2): ReLU(inplace=True)\n",
      "          (conv2): Conv2d(96, 96, kernel_size=(3, 3), stride=(1, 1), padding=(1, 1), bias=False)\n",
      "          (dp): Dropout2d(p=0.5, inplace=False)\n",
      "        )\n",
      "      )\n",
      "    )\n",
      "  )\n",
      "  (output_conv): Conv2d(96, 1, kernel_size=(1, 1), stride=(1, 1))\n",
      ")\n"
     ]
    }
   ],
   "source": [
    "try:\n",
    "    best_model_cpu = best_model.cpu().module\n",
    "except:\n",
    "    \n",
    "    best_model_cpu = best_model.cpu()\n",
    "    \n",
    "print(best_model_cpu)"
   ]
  },
  {
   "cell_type": "code",
   "execution_count": 41,
   "metadata": {},
   "outputs": [
    {
     "name": "stdout",
     "output_type": "stream",
     "text": [
      "2020-12-29\n",
      "20201229_141838\n"
     ]
    }
   ],
   "source": [
    "from datetime import date\n",
    "today = str(date.today())\n",
    "print(today)\n",
    "\n",
    "from time import gmtime, strftime\n",
    "moment = strftime(\"%Y%m%d_%H%M%S\", gmtime())\n",
    "print(moment)"
   ]
  },
  {
   "cell_type": "code",
   "execution_count": 42,
   "metadata": {},
   "outputs": [
    {
     "name": "stdout",
     "output_type": "stream",
     "text": [
      "./deployment/networks/perf_aif_lv_network_20201229_141838.pbt\n"
     ]
    }
   ],
   "source": [
    "model_file = './deployment/networks/perf_aif_' + perf_aif_dataset.which_mask + '_network_' + moment + '.pbt'\n",
    "print(model_file)"
   ]
  },
  {
   "cell_type": "code",
   "execution_count": 43,
   "metadata": {},
   "outputs": [],
   "source": [
    "torch.save(best_model_cpu, model_file)"
   ]
  },
  {
   "cell_type": "code",
   "execution_count": 44,
   "metadata": {},
   "outputs": [
    {
     "name": "stdout",
     "output_type": "stream",
     "text": [
      "GadgetronResUnet(\n",
      "  (input_layer): GadgetronResUnetInputBlock(\n",
      "    (conv1): Conv2d(64, 96, kernel_size=(3, 3), stride=(1, 1), padding=(1, 1), bias=False)\n",
      "    (bn1): BatchNorm2d(96, eps=1e-05, momentum=0.1, affine=True, track_running_stats=True)\n",
      "    (relu): ReLU(inplace=True)\n",
      "    (conv2): Conv2d(96, 96, kernel_size=(3, 3), stride=(1, 1), padding=(1, 1), bias=False)\n",
      "  )\n",
      "  (down_layers): Sequential(\n",
      "    (Down layer 0): Sequential(\n",
      "      (downsample): MaxPool2d(kernel_size=2, stride=2, padding=0, dilation=1, ceil_mode=False)\n",
      "      (ResBlock0): GadgetronResUnetBasicBlock(\n",
      "        (bn1): BatchNorm2d(96, eps=1e-05, momentum=0.1, affine=True, track_running_stats=True)\n",
      "        (relu1): ReLU(inplace=True)\n",
      "        (conv1): Conv2d(96, 128, kernel_size=(3, 3), stride=(1, 1), padding=(1, 1), bias=False)\n",
      "        (bn2): BatchNorm2d(128, eps=1e-05, momentum=0.1, affine=True, track_running_stats=True)\n",
      "        (relu2): ReLU(inplace=True)\n",
      "        (conv2): Conv2d(128, 128, kernel_size=(3, 3), stride=(1, 1), padding=(1, 1), bias=False)\n",
      "        (dp): Dropout2d(p=0.5, inplace=False)\n",
      "      )\n",
      "      (ResBlock1): GadgetronResUnetBasicBlock(\n",
      "        (bn1): BatchNorm2d(128, eps=1e-05, momentum=0.1, affine=True, track_running_stats=True)\n",
      "        (relu1): ReLU(inplace=True)\n",
      "        (conv1): Conv2d(128, 128, kernel_size=(3, 3), stride=(1, 1), padding=(1, 1), bias=False)\n",
      "        (bn2): BatchNorm2d(128, eps=1e-05, momentum=0.1, affine=True, track_running_stats=True)\n",
      "        (relu2): ReLU(inplace=True)\n",
      "        (conv2): Conv2d(128, 128, kernel_size=(3, 3), stride=(1, 1), padding=(1, 1), bias=False)\n",
      "        (dp): Dropout2d(p=0.5, inplace=False)\n",
      "      )\n",
      "      (ResBlock2): GadgetronResUnetBasicBlock(\n",
      "        (bn1): BatchNorm2d(128, eps=1e-05, momentum=0.1, affine=True, track_running_stats=True)\n",
      "        (relu1): ReLU(inplace=True)\n",
      "        (conv1): Conv2d(128, 128, kernel_size=(3, 3), stride=(1, 1), padding=(1, 1), bias=False)\n",
      "        (bn2): BatchNorm2d(128, eps=1e-05, momentum=0.1, affine=True, track_running_stats=True)\n",
      "        (relu2): ReLU(inplace=True)\n",
      "        (conv2): Conv2d(128, 128, kernel_size=(3, 3), stride=(1, 1), padding=(1, 1), bias=False)\n",
      "        (dp): Dropout2d(p=0.5, inplace=False)\n",
      "      )\n",
      "      (ResBlock3): GadgetronResUnetBasicBlock(\n",
      "        (bn1): BatchNorm2d(128, eps=1e-05, momentum=0.1, affine=True, track_running_stats=True)\n",
      "        (relu1): ReLU(inplace=True)\n",
      "        (conv1): Conv2d(128, 128, kernel_size=(3, 3), stride=(1, 1), padding=(1, 1), bias=False)\n",
      "        (bn2): BatchNorm2d(128, eps=1e-05, momentum=0.1, affine=True, track_running_stats=True)\n",
      "        (relu2): ReLU(inplace=True)\n",
      "        (conv2): Conv2d(128, 128, kernel_size=(3, 3), stride=(1, 1), padding=(1, 1), bias=False)\n",
      "        (dp): Dropout2d(p=0.5, inplace=False)\n",
      "      )\n",
      "    )\n",
      "    (Down layer 1): Sequential(\n",
      "      (downsample): MaxPool2d(kernel_size=2, stride=2, padding=0, dilation=1, ceil_mode=False)\n",
      "      (ResBlock0): GadgetronResUnetBasicBlock(\n",
      "        (bn1): BatchNorm2d(128, eps=1e-05, momentum=0.1, affine=True, track_running_stats=True)\n",
      "        (relu1): ReLU(inplace=True)\n",
      "        (conv1): Conv2d(128, 128, kernel_size=(3, 3), stride=(1, 1), padding=(1, 1), bias=False)\n",
      "        (bn2): BatchNorm2d(128, eps=1e-05, momentum=0.1, affine=True, track_running_stats=True)\n",
      "        (relu2): ReLU(inplace=True)\n",
      "        (conv2): Conv2d(128, 128, kernel_size=(3, 3), stride=(1, 1), padding=(1, 1), bias=False)\n",
      "        (dp): Dropout2d(p=0.5, inplace=False)\n",
      "      )\n",
      "      (ResBlock1): GadgetronResUnetBasicBlock(\n",
      "        (bn1): BatchNorm2d(128, eps=1e-05, momentum=0.1, affine=True, track_running_stats=True)\n",
      "        (relu1): ReLU(inplace=True)\n",
      "        (conv1): Conv2d(128, 128, kernel_size=(3, 3), stride=(1, 1), padding=(1, 1), bias=False)\n",
      "        (bn2): BatchNorm2d(128, eps=1e-05, momentum=0.1, affine=True, track_running_stats=True)\n",
      "        (relu2): ReLU(inplace=True)\n",
      "        (conv2): Conv2d(128, 128, kernel_size=(3, 3), stride=(1, 1), padding=(1, 1), bias=False)\n",
      "        (dp): Dropout2d(p=0.5, inplace=False)\n",
      "      )\n",
      "      (ResBlock2): GadgetronResUnetBasicBlock(\n",
      "        (bn1): BatchNorm2d(128, eps=1e-05, momentum=0.1, affine=True, track_running_stats=True)\n",
      "        (relu1): ReLU(inplace=True)\n",
      "        (conv1): Conv2d(128, 128, kernel_size=(3, 3), stride=(1, 1), padding=(1, 1), bias=False)\n",
      "        (bn2): BatchNorm2d(128, eps=1e-05, momentum=0.1, affine=True, track_running_stats=True)\n",
      "        (relu2): ReLU(inplace=True)\n",
      "        (conv2): Conv2d(128, 128, kernel_size=(3, 3), stride=(1, 1), padding=(1, 1), bias=False)\n",
      "        (dp): Dropout2d(p=0.5, inplace=False)\n",
      "      )\n",
      "      (ResBlock3): GadgetronResUnetBasicBlock(\n",
      "        (bn1): BatchNorm2d(128, eps=1e-05, momentum=0.1, affine=True, track_running_stats=True)\n",
      "        (relu1): ReLU(inplace=True)\n",
      "        (conv1): Conv2d(128, 128, kernel_size=(3, 3), stride=(1, 1), padding=(1, 1), bias=False)\n",
      "        (bn2): BatchNorm2d(128, eps=1e-05, momentum=0.1, affine=True, track_running_stats=True)\n",
      "        (relu2): ReLU(inplace=True)\n",
      "        (conv2): Conv2d(128, 128, kernel_size=(3, 3), stride=(1, 1), padding=(1, 1), bias=False)\n",
      "        (dp): Dropout2d(p=0.5, inplace=False)\n",
      "      )\n",
      "    )\n",
      "  )\n",
      "  (bridge_layer): Sequential(\n",
      "    (downsample): MaxPool2d(kernel_size=2, stride=2, padding=0, dilation=1, ceil_mode=False)\n",
      "    (ResBlock0): GadgetronResUnetBasicBlock(\n",
      "      (bn1): BatchNorm2d(128, eps=1e-05, momentum=0.1, affine=True, track_running_stats=True)\n",
      "      (relu1): ReLU(inplace=True)\n",
      "      (conv1): Conv2d(128, 128, kernel_size=(3, 3), stride=(1, 1), padding=(1, 1), bias=False)\n",
      "      (bn2): BatchNorm2d(128, eps=1e-05, momentum=0.1, affine=True, track_running_stats=True)\n",
      "      (relu2): ReLU(inplace=True)\n",
      "      (conv2): Conv2d(128, 128, kernel_size=(3, 3), stride=(1, 1), padding=(1, 1), bias=False)\n",
      "      (dp): Dropout2d(p=0.5, inplace=False)\n",
      "    )\n",
      "    (ResBlock1): GadgetronResUnetBasicBlock(\n",
      "      (bn1): BatchNorm2d(128, eps=1e-05, momentum=0.1, affine=True, track_running_stats=True)\n",
      "      (relu1): ReLU(inplace=True)\n",
      "      (conv1): Conv2d(128, 128, kernel_size=(3, 3), stride=(1, 1), padding=(1, 1), bias=False)\n",
      "      (bn2): BatchNorm2d(128, eps=1e-05, momentum=0.1, affine=True, track_running_stats=True)\n",
      "      (relu2): ReLU(inplace=True)\n",
      "      (conv2): Conv2d(128, 128, kernel_size=(3, 3), stride=(1, 1), padding=(1, 1), bias=False)\n",
      "      (dp): Dropout2d(p=0.5, inplace=False)\n",
      "    )\n",
      "    (ResBlock2): GadgetronResUnetBasicBlock(\n",
      "      (bn1): BatchNorm2d(128, eps=1e-05, momentum=0.1, affine=True, track_running_stats=True)\n",
      "      (relu1): ReLU(inplace=True)\n",
      "      (conv1): Conv2d(128, 128, kernel_size=(3, 3), stride=(1, 1), padding=(1, 1), bias=False)\n",
      "      (bn2): BatchNorm2d(128, eps=1e-05, momentum=0.1, affine=True, track_running_stats=True)\n",
      "      (relu2): ReLU(inplace=True)\n",
      "      (conv2): Conv2d(128, 128, kernel_size=(3, 3), stride=(1, 1), padding=(1, 1), bias=False)\n",
      "      (dp): Dropout2d(p=0.5, inplace=False)\n",
      "    )\n",
      "    (ResBlock3): GadgetronResUnetBasicBlock(\n",
      "      (bn1): BatchNorm2d(128, eps=1e-05, momentum=0.1, affine=True, track_running_stats=True)\n",
      "      (relu1): ReLU(inplace=True)\n",
      "      (conv1): Conv2d(128, 128, kernel_size=(3, 3), stride=(1, 1), padding=(1, 1), bias=False)\n",
      "      (bn2): BatchNorm2d(128, eps=1e-05, momentum=0.1, affine=True, track_running_stats=True)\n",
      "      (relu2): ReLU(inplace=True)\n",
      "      (conv2): Conv2d(128, 128, kernel_size=(3, 3), stride=(1, 1), padding=(1, 1), bias=False)\n",
      "      (dp): Dropout2d(p=0.5, inplace=False)\n",
      "    )\n",
      "  )\n",
      "  (up_layers): Sequential(\n",
      "    (Up layer 0): GadgetronResUnet_UpSample(\n",
      "      (blocks): Sequential(\n",
      "        (upsample 0): GadgetronResUnetBasicBlock(\n",
      "          (bn1): BatchNorm2d(256, eps=1e-05, momentum=0.1, affine=True, track_running_stats=True)\n",
      "          (relu1): ReLU(inplace=True)\n",
      "          (conv1): Conv2d(256, 128, kernel_size=(3, 3), stride=(1, 1), padding=(1, 1), bias=False)\n",
      "          (bn2): BatchNorm2d(128, eps=1e-05, momentum=0.1, affine=True, track_running_stats=True)\n",
      "          (relu2): ReLU(inplace=True)\n",
      "          (conv2): Conv2d(128, 128, kernel_size=(3, 3), stride=(1, 1), padding=(1, 1), bias=False)\n",
      "          (dp): Dropout2d(p=0.5, inplace=False)\n",
      "        )\n",
      "        (upsample 1): GadgetronResUnetBasicBlock(\n",
      "          (bn1): BatchNorm2d(128, eps=1e-05, momentum=0.1, affine=True, track_running_stats=True)\n",
      "          (relu1): ReLU(inplace=True)\n",
      "          (conv1): Conv2d(128, 128, kernel_size=(3, 3), stride=(1, 1), padding=(1, 1), bias=False)\n",
      "          (bn2): BatchNorm2d(128, eps=1e-05, momentum=0.1, affine=True, track_running_stats=True)\n",
      "          (relu2): ReLU(inplace=True)\n",
      "          (conv2): Conv2d(128, 128, kernel_size=(3, 3), stride=(1, 1), padding=(1, 1), bias=False)\n",
      "          (dp): Dropout2d(p=0.5, inplace=False)\n",
      "        )\n",
      "        (upsample 2): GadgetronResUnetBasicBlock(\n",
      "          (bn1): BatchNorm2d(128, eps=1e-05, momentum=0.1, affine=True, track_running_stats=True)\n",
      "          (relu1): ReLU(inplace=True)\n",
      "          (conv1): Conv2d(128, 128, kernel_size=(3, 3), stride=(1, 1), padding=(1, 1), bias=False)\n",
      "          (bn2): BatchNorm2d(128, eps=1e-05, momentum=0.1, affine=True, track_running_stats=True)\n",
      "          (relu2): ReLU(inplace=True)\n",
      "          (conv2): Conv2d(128, 128, kernel_size=(3, 3), stride=(1, 1), padding=(1, 1), bias=False)\n",
      "          (dp): Dropout2d(p=0.5, inplace=False)\n",
      "        )\n",
      "        (upsample 3): GadgetronResUnetBasicBlock(\n",
      "          (bn1): BatchNorm2d(128, eps=1e-05, momentum=0.1, affine=True, track_running_stats=True)\n",
      "          (relu1): ReLU(inplace=True)\n",
      "          (conv1): Conv2d(128, 128, kernel_size=(3, 3), stride=(1, 1), padding=(1, 1), bias=False)\n",
      "          (bn2): BatchNorm2d(128, eps=1e-05, momentum=0.1, affine=True, track_running_stats=True)\n",
      "          (relu2): ReLU(inplace=True)\n",
      "          (conv2): Conv2d(128, 128, kernel_size=(3, 3), stride=(1, 1), padding=(1, 1), bias=False)\n",
      "          (dp): Dropout2d(p=0.5, inplace=False)\n",
      "        )\n",
      "      )\n",
      "    )\n",
      "    (Up layer 1): GadgetronResUnet_UpSample(\n",
      "      (blocks): Sequential(\n",
      "        (upsample 0): GadgetronResUnetBasicBlock(\n",
      "          (bn1): BatchNorm2d(256, eps=1e-05, momentum=0.1, affine=True, track_running_stats=True)\n",
      "          (relu1): ReLU(inplace=True)\n",
      "          (conv1): Conv2d(256, 96, kernel_size=(3, 3), stride=(1, 1), padding=(1, 1), bias=False)\n",
      "          (bn2): BatchNorm2d(96, eps=1e-05, momentum=0.1, affine=True, track_running_stats=True)\n",
      "          (relu2): ReLU(inplace=True)\n",
      "          (conv2): Conv2d(96, 96, kernel_size=(3, 3), stride=(1, 1), padding=(1, 1), bias=False)\n",
      "          (dp): Dropout2d(p=0.5, inplace=False)\n",
      "        )\n",
      "        (upsample 1): GadgetronResUnetBasicBlock(\n",
      "          (bn1): BatchNorm2d(96, eps=1e-05, momentum=0.1, affine=True, track_running_stats=True)\n",
      "          (relu1): ReLU(inplace=True)\n",
      "          (conv1): Conv2d(96, 96, kernel_size=(3, 3), stride=(1, 1), padding=(1, 1), bias=False)\n",
      "          (bn2): BatchNorm2d(96, eps=1e-05, momentum=0.1, affine=True, track_running_stats=True)\n",
      "          (relu2): ReLU(inplace=True)\n",
      "          (conv2): Conv2d(96, 96, kernel_size=(3, 3), stride=(1, 1), padding=(1, 1), bias=False)\n",
      "          (dp): Dropout2d(p=0.5, inplace=False)\n",
      "        )\n",
      "        (upsample 2): GadgetronResUnetBasicBlock(\n",
      "          (bn1): BatchNorm2d(96, eps=1e-05, momentum=0.1, affine=True, track_running_stats=True)\n",
      "          (relu1): ReLU(inplace=True)\n",
      "          (conv1): Conv2d(96, 96, kernel_size=(3, 3), stride=(1, 1), padding=(1, 1), bias=False)\n",
      "          (bn2): BatchNorm2d(96, eps=1e-05, momentum=0.1, affine=True, track_running_stats=True)\n",
      "          (relu2): ReLU(inplace=True)\n",
      "          (conv2): Conv2d(96, 96, kernel_size=(3, 3), stride=(1, 1), padding=(1, 1), bias=False)\n",
      "          (dp): Dropout2d(p=0.5, inplace=False)\n",
      "        )\n",
      "        (upsample 3): GadgetronResUnetBasicBlock(\n",
      "          (bn1): BatchNorm2d(96, eps=1e-05, momentum=0.1, affine=True, track_running_stats=True)\n",
      "          (relu1): ReLU(inplace=True)\n",
      "          (conv1): Conv2d(96, 96, kernel_size=(3, 3), stride=(1, 1), padding=(1, 1), bias=False)\n",
      "          (bn2): BatchNorm2d(96, eps=1e-05, momentum=0.1, affine=True, track_running_stats=True)\n",
      "          (relu2): ReLU(inplace=True)\n",
      "          (conv2): Conv2d(96, 96, kernel_size=(3, 3), stride=(1, 1), padding=(1, 1), bias=False)\n",
      "          (dp): Dropout2d(p=0.5, inplace=False)\n",
      "        )\n",
      "      )\n",
      "    )\n",
      "    (Up layer 2): GadgetronResUnet_UpSample(\n",
      "      (blocks): Sequential(\n",
      "        (upsample 0): GadgetronResUnetBasicBlock(\n",
      "          (bn1): BatchNorm2d(192, eps=1e-05, momentum=0.1, affine=True, track_running_stats=True)\n",
      "          (relu1): ReLU(inplace=True)\n",
      "          (conv1): Conv2d(192, 96, kernel_size=(3, 3), stride=(1, 1), padding=(1, 1), bias=False)\n",
      "          (bn2): BatchNorm2d(96, eps=1e-05, momentum=0.1, affine=True, track_running_stats=True)\n",
      "          (relu2): ReLU(inplace=True)\n",
      "          (conv2): Conv2d(96, 96, kernel_size=(3, 3), stride=(1, 1), padding=(1, 1), bias=False)\n",
      "          (dp): Dropout2d(p=0.5, inplace=False)\n",
      "        )\n",
      "        (upsample 1): GadgetronResUnetBasicBlock(\n",
      "          (bn1): BatchNorm2d(96, eps=1e-05, momentum=0.1, affine=True, track_running_stats=True)\n",
      "          (relu1): ReLU(inplace=True)\n",
      "          (conv1): Conv2d(96, 96, kernel_size=(3, 3), stride=(1, 1), padding=(1, 1), bias=False)\n",
      "          (bn2): BatchNorm2d(96, eps=1e-05, momentum=0.1, affine=True, track_running_stats=True)\n",
      "          (relu2): ReLU(inplace=True)\n",
      "          (conv2): Conv2d(96, 96, kernel_size=(3, 3), stride=(1, 1), padding=(1, 1), bias=False)\n",
      "          (dp): Dropout2d(p=0.5, inplace=False)\n",
      "        )\n",
      "        (upsample 2): GadgetronResUnetBasicBlock(\n",
      "          (bn1): BatchNorm2d(96, eps=1e-05, momentum=0.1, affine=True, track_running_stats=True)\n",
      "          (relu1): ReLU(inplace=True)\n",
      "          (conv1): Conv2d(96, 96, kernel_size=(3, 3), stride=(1, 1), padding=(1, 1), bias=False)\n",
      "          (bn2): BatchNorm2d(96, eps=1e-05, momentum=0.1, affine=True, track_running_stats=True)\n",
      "          (relu2): ReLU(inplace=True)\n",
      "          (conv2): Conv2d(96, 96, kernel_size=(3, 3), stride=(1, 1), padding=(1, 1), bias=False)\n",
      "          (dp): Dropout2d(p=0.5, inplace=False)\n",
      "        )\n",
      "        (upsample 3): GadgetronResUnetBasicBlock(\n",
      "          (bn1): BatchNorm2d(96, eps=1e-05, momentum=0.1, affine=True, track_running_stats=True)\n",
      "          (relu1): ReLU(inplace=True)\n",
      "          (conv1): Conv2d(96, 96, kernel_size=(3, 3), stride=(1, 1), padding=(1, 1), bias=False)\n",
      "          (bn2): BatchNorm2d(96, eps=1e-05, momentum=0.1, affine=True, track_running_stats=True)\n",
      "          (relu2): ReLU(inplace=True)\n",
      "          (conv2): Conv2d(96, 96, kernel_size=(3, 3), stride=(1, 1), padding=(1, 1), bias=False)\n",
      "          (dp): Dropout2d(p=0.5, inplace=False)\n",
      "        )\n",
      "      )\n",
      "    )\n",
      "  )\n",
      "  (output_conv): Conv2d(96, 1, kernel_size=(1, 1), stride=(1, 1))\n",
      ")\n"
     ]
    }
   ],
   "source": [
    "model_loaded = torch.load(model_file)\n",
    "print(model_loaded)"
   ]
  },
  {
   "cell_type": "code",
   "execution_count": null,
   "metadata": {},
   "outputs": [],
   "source": []
  }
 ],
 "metadata": {
  "kernelspec": {
   "display_name": "Python 3",
   "language": "python",
   "name": "python3"
  },
  "language_info": {
   "codemirror_mode": {
    "name": "ipython",
    "version": 3
   },
   "file_extension": ".py",
   "mimetype": "text/x-python",
   "name": "python",
   "nbconvert_exporter": "python",
   "pygments_lexer": "ipython3",
   "version": "3.7.9"
  },
  "toc": {
   "base_numbering": 1,
   "nav_menu": {},
   "number_sections": true,
   "sideBar": true,
   "skip_h1_title": true,
   "title_cell": "Table of Contents",
   "title_sidebar": "Contents",
   "toc_cell": false,
   "toc_position": {
    "height": "calc(100% - 180px)",
    "left": "10px",
    "top": "150px",
    "width": "165px"
   },
   "toc_section_display": true,
   "toc_window_display": true
  },
  "varInspector": {
   "cols": {
    "lenName": 16,
    "lenType": 16,
    "lenVar": 40
   },
   "kernels_config": {
    "python": {
     "delete_cmd_postfix": "",
     "delete_cmd_prefix": "del ",
     "library": "var_list.py",
     "varRefreshCmd": "print(var_dic_list())"
    },
    "r": {
     "delete_cmd_postfix": ") ",
     "delete_cmd_prefix": "rm(",
     "library": "var_list.r",
     "varRefreshCmd": "cat(var_dic_list()) "
    }
   },
   "types_to_exclude": [
    "module",
    "function",
    "builtin_function_or_method",
    "instance",
    "_Feature"
   ],
   "window_display": false
  }
 },
 "nbformat": 4,
 "nbformat_minor": 4
}
